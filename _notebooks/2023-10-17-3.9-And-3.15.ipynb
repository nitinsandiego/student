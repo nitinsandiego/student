{
 "cells": [
  {
   "cell_type": "markdown",
   "metadata": {},
   "source": [
    "---\n",
    "toc: true\n",
    "comments: true\n",
    "layout: post\n",
    "title: 3.9 and 3.15 Homework\n",
    "description: 3.9 and 3.15 Homework\n",
    "courses: { csp: {week: 8} }\n",
    "type: tangibles\n",
    "---"
   ]
  },
  {
   "cell_type": "markdown",
   "metadata": {},
   "source": [
    "# Homework Problem 1"
   ]
  },
  {
   "cell_type": "code",
   "execution_count": 2,
   "metadata": {},
   "outputs": [
    {
     "name": "stdout",
     "output_type": "stream",
     "text": [
      "The median of [1, 2, 5, 5, 6, 9] is 5.0\n"
     ]
    }
   ],
   "source": [
    "def calculate_median(numbers):\n",
    "    # Check if the input list is empty\n",
    "    if len(numbers) == 0:\n",
    "        raise ValueError(\"Input list is empty\")\n",
    "\n",
    "    # Sort the list of numbers in ascending order\n",
    "    numbers.sort()\n",
    "\n",
    "    # Calculate the index of the middle element(s)\n",
    "    middle_index = len(numbers) // 2\n",
    "\n",
    "    # Check if the list has an odd number of elements\n",
    "    if len(numbers) % 2 == 1:\n",
    "        # If odd, return the middle element\n",
    "        median = numbers[middle_index]\n",
    "    else:\n",
    "        # If even, calculate the average of the two middle elements\n",
    "        median = (numbers[middle_index - 1] + numbers[middle_index]) / 2\n",
    "\n",
    "    return median\n",
    "\n",
    "# Example usage:\n",
    "numbers = [5, 2, 9, 1, 5, 6]\n",
    "result = calculate_median(numbers)\n",
    "print(f\"The median of {numbers} is {result}\")\n"
   ]
  },
  {
   "cell_type": "markdown",
   "metadata": {},
   "source": [
    "# Homework Problem 2"
   ]
  },
  {
   "cell_type": "code",
   "execution_count": 1,
   "metadata": {},
   "outputs": [
    {
     "name": "stdout",
     "output_type": "stream",
     "text": [
      "Welcome to the Guess the Number Game!\n",
      "Try to guess the secret number between 1 and 100. You have 5 attempts.\n",
      "Too high! Try a lower number.\n",
      "You have 4 attempts left.\n",
      "Too low! Try a higher number.\n",
      "You have 3 attempts left.\n",
      "Too high! Try a lower number.\n",
      "You have 2 attempts left.\n",
      "Too low! Try a higher number.\n",
      "You have 1 attempts left.\n",
      "Too low! Try a higher number.\n",
      "You have 0 attempts left.\n",
      "Sorry, you've run out of attempts. The secret number was 39.\n"
     ]
    }
   ],
   "source": [
    "import random\n",
    "\n",
    "def guess_the_number():\n",
    "    # Generate a random number between 1 and 100\n",
    "    secret_number = random.randint(1, 100)\n",
    "    \n",
    "    # Set the number of allowed attempts\n",
    "    max_attempts = 5\n",
    "    attempts = 0\n",
    "    \n",
    "    print(\"Welcome to the Guess the Number Game!\")\n",
    "    print(f\"Try to guess the secret number between 1 and 100. You have {max_attempts} attempts.\")\n",
    "\n",
    "    while attempts < max_attempts:\n",
    "        try:\n",
    "            # Get the player's guess\n",
    "            guess = int(input(\"Enter your guess: \"))\n",
    "            \n",
    "            # Check if the guess is correct\n",
    "            if guess == secret_number:\n",
    "                print(\"Congratulations! You've guessed the correct number.\")\n",
    "                break\n",
    "            elif guess < secret_number:\n",
    "                print(\"Too low! Try a higher number.\")\n",
    "            else:\n",
    "                print(\"Too high! Try a lower number.\")\n",
    "            \n",
    "            # Increment the number of attempts\n",
    "            attempts += 1\n",
    "            remaining_attempts = max_attempts - attempts\n",
    "            print(f\"You have {remaining_attempts} attempts left.\")\n",
    "        \n",
    "        except ValueError:\n",
    "            print(\"Invalid input. Please enter a valid number.\")\n",
    "\n",
    "    else:\n",
    "        print(f\"Sorry, you've run out of attempts. The secret number was {secret_number}.\")\n",
    "\n",
    "guess_the_number()\n"
   ]
  }
 ],
 "metadata": {
  "kernelspec": {
   "display_name": "Python 3",
   "language": "python",
   "name": "python3"
  },
  "language_info": {
   "codemirror_mode": {
    "name": "ipython",
    "version": 3
   },
   "file_extension": ".py",
   "mimetype": "text/x-python",
   "name": "python",
   "nbconvert_exporter": "python",
   "pygments_lexer": "ipython3",
   "version": "3.9.6"
  }
 },
 "nbformat": 4,
 "nbformat_minor": 2
}
