{
 "cells": [
  {
   "cell_type": "markdown",
   "metadata": {},
   "source": [
    "---\n",
    "toc: False\n",
    "layout: post\n",
    "hide: False\n",
    "title: 2020 College Board AP CSP Quiz\n",
    "description: 2020 College Board AP CSP Quiz\n",
    "courses: {'csp': {'week': 17}}\n",
    "type: tangibles\n",
    "---"
   ]
  },
  {
   "cell_type": "markdown",
   "metadata": {},
   "source": [
    "# My Scrore\n",
    "- I scored 61/67\n",
    "- This post will cover my journey, learnings, and discovery throughout the test\n",
    "\n",
    "# Journey\n",
    "- This is an improvement from my Trimester 1 score of 56/67\n",
    "- Reasons for improvement\n",
    "    - More knowledge: All of the team teaches lots of content to give me an idea of the concepts the quiz tested me on\n",
    "    - More practice: I did more practice problems and more practice tests, which helped me get a better idea of what the test would be like\n",
    "- There some ideas or concepts that I didn't know, so I had to guess or check the concept online.\n",
    "\n",
    "# Question 23\n",
    "![image-2.png](/student/images/Question_23.png)\n",
    "Answered - B\n",
    "Correct - D\n",
    "Explanation: This is correct because the flowchart sets available to true whenever weekday is true and miles is less than 20, and sets available to false otherwise. This code statement provides the same functionality.\n",
    "\n",
    "# Question 57\n",
    "![image-3.png](/student/images/Question_57.png)\n",
    "Answered - B\n",
    "Correct - C\n",
    "Explanation: This is correct because protocols for Internet communication, such as TCP/IP, are intended to define a standard format for messages sent between devices on the Internet.\n",
    "\n",
    "# Question 58\n",
    "![image-4.png](/student/images/Question_58.png)\n",
    "Answered - B\n",
    "Correct - C\n",
    "Explanation: This is correct because for this set of inputs, false is returned even though two of the inputs are equal in value. The IF condition x = y evaluates to false, so the body of the ELSE statement is executed. The expression y = z evaluates to false, so false is returned.\n",
    "\n",
    "# Question 61\n",
    "![image-5.png](/student/images/Question_61.png)\n",
    "Answered - B\n",
    "Correct - B & D\n",
    "Explanation: B is correct because providing accessibility features may allow some groups to access technology and content that they previously could not access. C is correct because some geographic locations lack the network infrastructure necessary to provide digital connectivity. Investing in network infrastructure is likely to provide people in remote locations access that they previously did not have.\n",
    "\n",
    "# Questions 64\n",
    "![image-6.png](/student/images/Question_64.png)\n",
    "Answered - B\n",
    "Correct - B & D\n",
    "Explanation: B is correct because since y is initially negative, the loop condition count ≥ y is initially true, so the body of the loop is never executed and 0 is returned. D is correct because since y is initially negative, the loop condition count ≥ y is initially true, so the body of the loop is never executed and 0 is returned.\n",
    "\n",
    "# Question 67\n",
    "![image.png](/student/images/Question_67.png)\n",
    "Answered - A & D\n",
    "Correct - A & B\n",
    "Explantion: I thought D was correct because I thought the procedure would return 1, not as intended. A is correct becaus when count is increased to 1 the first time \"birch\" is encountered in the list. However, count is reset to 0 when the code segment moves to the next list element. The last time \"birch\" is encountered in the list, count is again increased to 1, causing the procedure to return 1 instead of the intended result 2.\n"
   ]
  },
  {
   "cell_type": "markdown",
   "metadata": {},
   "source": [
    "# Takeaways\n",
    "### I learned that I struggled with these concepts during the quiz, so it’s important for me to spend extra time reviewing and studying them.\n",
    "- Digital Divide\n",
    "- Identifying and Correcting Errors\n",
    "- Developing Algorithms\n",
    "- The Interent"
   ]
  },
  {
   "cell_type": "markdown",
   "metadata": {},
   "source": [
    "# Some ways to Study AP CSP Exam\n",
    "- Practice tests\n",
    "- Practice problems\n",
    "- Reviewing concepts\n",
    "- Reviewing code\n",
    "- Watching AP College Board videos\n",
    "- Reviewing team teaches and going over main topics from the lessons"
   ]
  },
  {
   "cell_type": "markdown",
   "metadata": {},
   "source": [
    "# Conclusion\n",
    "I am pretty happy with my score of 61/67 as it reflects my improvement in my journey in AP CSP. From this quiz, I can tell I have a few more areas to review like the Digital Divide, Identifying and Correcting Errors, Developing Algorithms, and The Internet. At the same time, I can also reflect from this quiz that there are many areas that I am familiar with and feel comfortable with. To continue my practice for the AP CSP exam, I must review the lessons from the team teaches and the videos on AP Collegeboard. These will be really helpful in preparing for the exam and to get a 5 on the examn. Overall, this quiz was great pratice and helped me learn which skills I need to focus on and which I feel I am comfortable with. "
   ]
  }
 ],
 "metadata": {
  "language_info": {
   "name": "python"
  }
 },
 "nbformat": 4,
 "nbformat_minor": 2
}
