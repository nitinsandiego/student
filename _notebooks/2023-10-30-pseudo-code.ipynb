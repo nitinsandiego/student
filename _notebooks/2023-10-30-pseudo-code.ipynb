{
 "cells": [
  {
   "cell_type": "markdown",
   "metadata": {},
   "source": [
    "---\n",
    "title: Pseudo Code Notes\n",
    "comments: true\n",
    "hide: true\n",
    "layout: post\n",
    "description: Notes on AP Pseudo Code\n",
    "courses: { csp: {week: 11} }\n",
    "type: hacks\n",
    "---"
   ]
  },
  {
   "cell_type": "markdown",
   "metadata": {},
   "source": [
    "# Pseudo Code Notes\n",
    "\n",
    "## First thoughts\n",
    "- Pseudo code is easy to read.\n",
    "- Arrows for variable assignment can be confusing.\n",
    "- I like the clear code separation with blocks.\n",
    "\n",
    "## Usage\n",
    "- Use arrows to assign values to variables.\n",
    "- Loops use \"Repeat Until.\"\n",
    "- If and if-else statements are similar to Python.\n",
    "- MOD means finding the remainder when dividing two numbers.\n",
    "\n",
    "## Problem 1\n",
    "- Programs A and B are almost the same.\n",
    "    - Program A shows \"i\" before printing.\n",
    "    - Program B shows \"i\" after printing."
   ]
  },
  {
   "cell_type": "markdown",
   "metadata": {},
   "source": [
    "## Problem 2\n",
    "- \"random(1, 6)\" is like Python's random module.\n",
    "- Yellow and blue have separate if statements; everything else is red."
   ]
  },
  {
   "cell_type": "markdown",
   "metadata": {},
   "source": [
    "## Problem 3\n",
    "- This solution is straightforward.\n",
    "    - Start at (3, 6) and draw circles three times, moving by 2 in x and y.\n"
   ]
  },
  {
   "cell_type": "markdown",
   "metadata": {},
   "source": [
    "## Problem 4\n",
    "- Check the last if statement to see if the movie is in 3D.\n",
    "- If it's True, add 5 to the ticket price."
   ]
  },
  {
   "cell_type": "markdown",
   "metadata": {},
   "source": [
    "## Problem 5\n",
    "- Initially confusing, especially the return section.\n",
    "- If the counter is over half the total, return it; otherwise, don't."
   ]
  },
  {
   "cell_type": "markdown",
   "metadata": {},
   "source": [
    "## Problem 6\n",
    "- Seems complex, but work backward from the end.\n",
    "- Use \"or\" because \"includes\" can be true or false."
   ]
  }
 ],
 "metadata": {
  "kernelspec": {
   "display_name": "Python 3",
   "language": "python",
   "name": "python3"
  },
  "language_info": {
   "name": "python",
   "version": "3.11.6"
  },
  "orig_nbformat": 4
 },
 "nbformat": 4,
 "nbformat_minor": 2
}
