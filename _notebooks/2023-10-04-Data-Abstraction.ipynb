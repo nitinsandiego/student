{
 "cells": [
  {
   "cell_type": "markdown",
   "metadata": {},
   "source": [
    "---\n",
    "toc: true\n",
    "comments: true\n",
    "layout: post\n",
    "title: 3.2 Data Abstraction \n",
    "description: 3.2 Data Abstraction\n",
    "courses: { csp: {week: 6} }\n",
    "type: plans\n",
    "---"
   ]
  },
  {
   "cell_type": "code",
   "execution_count": null,
   "metadata": {},
   "outputs": [],
   "source": [
    "num1Int  = 10\n",
    "num2Int = 15\n",
    "print(num1Int+num2Int)"
   ]
  },
  {
   "cell_type": "code",
   "execution_count": null,
   "metadata": {},
   "outputs": [],
   "source": [
    "float1 = 5.0\n",
    "float2 = 2.5\n",
    "print(float1/float2)"
   ]
  }
 ],
 "metadata": {
  "language_info": {
   "name": "python"
  },
  "orig_nbformat": 4
 },
 "nbformat": 4,
 "nbformat_minor": 2
}
