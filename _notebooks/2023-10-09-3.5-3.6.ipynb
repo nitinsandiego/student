{
 "cells": [
  {
   "cell_type": "markdown",
   "metadata": {},
   "source": [
    "---\n",
    "toc: true\n",
    "comments: true\n",
    "layout: post\n",
    "title: 3.5 Boolean Expressions and 3.6 Conditionals\n",
    "description: 3.5 Boolean Expressions and 3.6 Conditionals\n",
    "courses: { csp: {week: 7} }\n",
    "type: plans\n",
    "---"
   ]
  },
  {
   "cell_type": "markdown",
   "metadata": {},
   "source": [
    "## Booleans\n",
    "- 2 Values\n",
    "    - True\n",
    "    - False\n",
    "- Example: my hair color is black: True\n",
    "\n",
    "## Relational Operators\n",
    "- Equal to: a = b\n",
    "- Not equal to: a != b\n",
    "- Greater than: a > b\n",
    "- Less than: a < b\n",
    "- Greater than or equal to: a >= b\n",
    "- Less than or equal to: a <= b\n",
    "\n",
    "### Popcorn Hack 1\n",
    "- In most states, the minimum age to drive is 16. How would we write a boolean expression to check if someone is at least 16 years old?\n",
    "```python\n",
    "age >= 16\n",
    "```\n",
    "- Write a boolean expression to check if the average of grade1, grade2, and grade3 is at least 70. \n",
    "```python\n",
    "(grade1 + grade2 + grade3)/3 >= 70\n",
    "```\n",
    "- Write a code to check if the temperature is less than 90 degrees\n",
    "```python\n",
    "temp < 90\n",
    "```\n"
   ]
  },
  {
   "cell_type": "markdown",
   "metadata": {},
   "source": [
    "## Not operator\n",
    "- Not flips the condition\n",
    "\n",
    "![NotOperator](/student/images/NoneOperator.png)\n",
    "\n",
    "## And operator\n",
    "- And combines two conditions together\n",
    "![AndOperator](/student/images/AndOperator.png)\n",
    "\n",
    "## Or operator\n",
    " - Or returns True if only one conditon is true\n",
    " ![OrOperator](/student/images/OrOperator.png)"
   ]
  },
  {
   "cell_type": "markdown",
   "metadata": {},
   "source": [
    "### Popcorn Hack 2\n",
    "- You can go out if you did your homework and you scored at least  an 80 on your exam. Write boolean expression for this\n",
    "![BooleanExercise](/student/images/BooleanExpressionPractice.png)"
   ]
  },
  {
   "cell_type": "markdown",
   "metadata": {},
   "source": [
    "## Example AP Question\n",
    "![ExampleQuestions](/student/images/Example3.5Question.png)\n",
    "A. II only<br>\n",
    "B. I and II only<br>\n",
    "C. I and III only<br>\n",
    "D. II and III only<br>\n",
    "\n",
    "Correct Answer: D"
   ]
  },
  {
   "cell_type": "markdown",
   "metadata": {},
   "source": [
    "## Conditionals\n",
    "- Algorithm: a finite set of instructions that accomplish a specific task\n",
    "![Algorithm](/student/images/Algorithm.png)\n",
    "- Example: If a student's average grade on exams is at least 75, they are eligible to receive extra credit. Otherwise, they must attend tutorial.\n",
    "![GradeExample](/student/images/GradeExample.png)"
   ]
  }
 ],
 "metadata": {
  "language_info": {
   "name": "python"
  },
  "orig_nbformat": 4
 },
 "nbformat": 4,
 "nbformat_minor": 2
}
