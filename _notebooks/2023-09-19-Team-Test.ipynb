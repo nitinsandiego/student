{
 "cells": [
  {
   "cell_type": "markdown",
   "metadata": {},
   "source": [
    "---\n",
    "layout: post\n",
    "title: 1.1-1.4 Team Test\n",
    "description: This is our Team Test. \n",
    "toc: false\n",
    "comments: false\n",
    "courses: { csp: {week: 4} }\n",
    "type: tangibles\n",
    "---"
   ]
  },
  {
   "cell_type": "markdown",
   "metadata": {},
   "source": [
    "# Collaboration Review\n",
    "\n",
    "- Diverse Skills: Teams consist of individuals with varied backgrounds and expertise, enriching the software development process.\n",
    "- Creativity Boost: Collaborative settings promote idea sharing, leading to innovative solutions.\n",
    "- Efficient Task Allocation: Assigning tasks based on strengths enhances work efficiency.\n",
    "- Quality Assurance: Multiple team members ensure early error detection, resulting in higher-quality software.\n",
    "- Knowledge Sharing: Continuous learning and skill development occur through team interactions.\n",
    "- Diversity in Teams: Teams benefit from diverse technical skills, experience levels, cultural backgrounds, genders, and ages.\n",
    "- Facilitating Communication: Effective communication is essential, achieved through regular meetings, collaboration tools, documentation, and clear channels.\n",
    "- Accountability: Setting milestones, tracking progress, peer reviews, check-ins, feedback, and recognition ensure effective contributions to team goals.\n"
   ]
  },
  {
   "cell_type": "markdown",
   "metadata": {},
   "source": [
    "# Program Function and Purpose\n",
    "\n",
    "\n",
    "## Program with Output\n",
    "\n",
    "- This code outputs the first 10 numbers of Fibonacci series."
   ]
  },
  {
   "cell_type": "code",
   "execution_count": 1,
   "metadata": {},
   "outputs": [
    {
     "name": "stdout",
     "output_type": "stream",
     "text": [
      "First 10 Fibonacci numbers:\n",
      "0\n",
      "1\n",
      "1\n",
      "2\n",
      "3\n",
      "5\n",
      "8\n",
      "13\n",
      "21\n",
      "34\n"
     ]
    }
   ],
   "source": [
    "# Initialize the first two Fibonacci numbers\n",
    "a, b = 0, 1\n",
    "\n",
    "# Number of Fibonacci numbers to be printed\n",
    "n = 10\n",
    "\n",
    "print(\"First\", n, \"Fibonacci numbers:\")\n",
    "\n",
    "for _ in range(n):\n",
    "    print(a)\n",
    "    a, b = b, a + b"
   ]
  },
  {
   "cell_type": "markdown",
   "metadata": {},
   "source": [
    "## Program with input and Output\n",
    "\n",
    "- This program gets input of User's name and outputs a greeting."
   ]
  },
  {
   "cell_type": "code",
   "execution_count": 16,
   "metadata": {},
   "outputs": [
    {
     "name": "stdout",
     "output_type": "stream",
     "text": [
      "Hello, Nitin! Welcome to our program.\n"
     ]
    }
   ],
   "source": [
    "# Input: Ask the user for their name\n",
    "name = input(\"Please enter your name: \")\n",
    "\n",
    "# Process: Create a personalized greeting\n",
    "greeting = f\"Hello, {name}! Welcome to our program.\"\n",
    "\n",
    "# Output: Display the personalized greeting\n",
    "print(greeting)\n"
   ]
  },
  {
   "cell_type": "markdown",
   "metadata": {},
   "source": [
    "## Program with List\n",
    "\n",
    "- This is my list of of fruits. Here, I display many different functions with lists. "
   ]
  },
  {
   "cell_type": "code",
   "execution_count": 6,
   "metadata": {},
   "outputs": [
    {
     "name": "stdout",
     "output_type": "stream",
     "text": [
      "Original list: ['apple', 'banana', 'cherry', 'date']\n",
      "After adding an item: ['apple', 'banana', 'cherry', 'date', 'elderberry']\n",
      "After removing an item: ['apple', 'banana', 'date', 'elderberry']\n",
      "Reversed list: ['elderberry', 'date', 'banana', 'apple']\n",
      "Sorted list: ['apple', 'banana', 'date', 'elderberry']\n",
      "Index of 'date': 2\n",
      "After inserting an item: ['apple', 'banana', 'fig', 'date', 'elderberry']\n",
      "Count of 'apple': 1\n",
      "After clearing the list: []\n"
     ]
    }
   ],
   "source": [
    "fruits = [\"apple\", \"banana\", \"cherry\", \"date\"]\n",
    "\n",
    "# Display the list\n",
    "print(\"Original list:\", fruits)\n",
    "\n",
    "# Add an item to the list\n",
    "fruits.append(\"elderberry\")\n",
    "print(\"After adding an item:\", fruits)\n",
    "\n",
    "# Remove an item from the list\n",
    "fruits.remove(\"cherry\")\n",
    "print(\"After removing an item:\", fruits)\n",
    "\n",
    "# Reverse the list\n",
    "fruits.reverse()\n",
    "print(\"Reversed list:\", fruits)\n",
    "\n",
    "# Sort the list\n",
    "fruits.sort()\n",
    "print(\"Sorted list:\", fruits)\n",
    "\n",
    "# Find the index of an item\n",
    "index = fruits.index(\"date\")\n",
    "print(\"Index of 'date':\", index)\n",
    "\n",
    "# Insert an item at a specific position\n",
    "fruits.insert(2, \"fig\")\n",
    "print(\"After inserting an item:\", fruits)\n",
    "\n",
    "# Count occurrences of an item\n",
    "count = fruits.count(\"apple\")\n",
    "print(\"Count of 'apple':\", count)\n",
    "\n",
    "# Clear the list\n",
    "fruits.clear()\n",
    "print(\"After clearing the list:\", fruits)\n",
    "\n"
   ]
  },
  {
   "cell_type": "markdown",
   "metadata": {},
   "source": [
    "## Program with Dictionary\n",
    "\n",
    "- This is my dictionary. Here, I display many different functions with lists. "
   ]
  },
  {
   "cell_type": "code",
   "execution_count": 7,
   "metadata": {},
   "outputs": [
    {
     "name": "stdout",
     "output_type": "stream",
     "text": [
      "John\n",
      "30\n",
      "{'name': 'John', 'age': 30, 'city': 'New York', 'job': 'Engineer'}\n",
      "{'name': 'John', 'city': 'New York', 'job': 'Engineer'}\n",
      "name: John\n",
      "city: New York\n",
      "job: Engineer\n",
      "City is: New York\n",
      "3\n",
      "123 Main St\n"
     ]
    }
   ],
   "source": [
    "# Create a dictionary\n",
    "person = {\n",
    "    \"name\": \"John\",\n",
    "    \"age\": 30,\n",
    "    \"city\": \"New York\"\n",
    "}\n",
    "\n",
    "# Accessing elements\n",
    "print(person[\"name\"])  # Output: John\n",
    "print(person.get(\"age\"))  # Output: 30\n",
    "\n",
    "# Adding elements\n",
    "person[\"job\"] = \"Engineer\"\n",
    "print(person)  # Output: {'name': 'John', 'age': 30, 'city': 'New York', 'job': 'Engineer'}\n",
    "\n",
    "# Removing elements\n",
    "del person[\"age\"]\n",
    "print(person)  # Output: {'name': 'John', 'city': 'New York', 'job': 'Engineer'}\n",
    "\n",
    "# Iterating through a dictionary\n",
    "for key, value in person.items():\n",
    "    print(f\"{key}: {value}\")\n",
    "\n",
    "# Checking if a key exists\n",
    "if \"city\" in person:\n",
    "    print(f\"City is: {person['city']}\")  # Output: City is: New York\n",
    "\n",
    "# Dictionary length\n",
    "print(len(person))  # Output: 3\n",
    "\n",
    "# Nested dictionaries\n",
    "person['address'] = {\n",
    "    'street': '123 Main St',\n",
    "    'zipcode': '10001'\n",
    "}\n",
    "print(person['address']['street'])  # Output: 123 Main St\n"
   ]
  },
  {
   "cell_type": "markdown",
   "metadata": {},
   "source": [
    "## Program with Iteration\n",
    "\n",
    "- This is my function of factorial using iteration in the form of for loops."
   ]
  },
  {
   "cell_type": "code",
   "execution_count": 9,
   "metadata": {},
   "outputs": [
    {
     "name": "stdout",
     "output_type": "stream",
     "text": [
      "The factorial of 4 is 24\n"
     ]
    }
   ],
   "source": [
    "def factorial(n):\n",
    "    result = 1\n",
    "    for i in range(1, n + 1):\n",
    "        result *= i\n",
    "    return result\n",
    "\n",
    "# Get input from the user\n",
    "num = int(input(\"Enter a number to calculate its factorial: \"))\n",
    "\n",
    "# Check if the number is negative, zero, or positive\n",
    "if num < 0:\n",
    "    print(\"Sorry, factorial does not exist for negative numbers\")\n",
    "elif num == 0:\n",
    "    print(\"The factorial of 0 is 1\")\n",
    "else:\n",
    "    print(f\"The factorial of {num} is {factorial(num)}\")"
   ]
  },
  {
   "cell_type": "markdown",
   "metadata": {},
   "source": [
    "## Program with a Function to perform mathematical and/or a statistical calculations.\n",
    "\n",
    "- This my program that offers the user a choice to perform either a mathematical calculation (like square root) or a statistical calculation (like mean of a list of numbers)."
   ]
  },
  {
   "cell_type": "code",
   "execution_count": 10,
   "metadata": {},
   "outputs": [
    {
     "name": "stdout",
     "output_type": "stream",
     "text": [
      "Choose an operation:\n",
      "1. Calculate Square Root\n",
      "2. Calculate Mean of a List of Numbers\n",
      "Square root of 25.0 is 5.0\n"
     ]
    }
   ],
   "source": [
    "import math\n",
    "\n",
    "def calculate_square_root(number):\n",
    "    \"\"\"Return the square root of the given number.\"\"\"\n",
    "    return math.sqrt(number)\n",
    "\n",
    "def calculate_mean(numbers):\n",
    "    \"\"\"Return the mean of a list of numbers.\"\"\"\n",
    "    return sum(numbers) / len(numbers)\n",
    "\n",
    "# Display options to the user\n",
    "print(\"Choose an operation:\")\n",
    "print(\"1. Calculate Square Root\")\n",
    "print(\"2. Calculate Mean of a List of Numbers\")\n",
    "    \n",
    "choice = int(input(\"Enter your choice (1/2): \"))\n",
    "\n",
    "if choice == 1:\n",
    "    number = float(input(\"Enter the number to find its square root: \"))\n",
    "    print(f\"Square root of {number} is {calculate_square_root(number)}\")\n",
    "elif choice == 2:\n",
    "    numbers = list(map(float, input(\"Enter a list of numbers separated by spaces: \").split()))\n",
    "    print(f\"Mean of the given numbers is {calculate_mean(numbers)}\")\n",
    "else:\n",
    "    print(\"Invalid choice!\")"
   ]
  },
  {
   "cell_type": "markdown",
   "metadata": {},
   "source": [
    "## Program with Selection/Condition\n",
    "\n",
    "- The code determines and displays the appropriate ticket type and its cost based on the user's age input."
   ]
  },
  {
   "cell_type": "code",
   "execution_count": 15,
   "metadata": {},
   "outputs": [
    {
     "name": "stdout",
     "output_type": "stream",
     "text": [
      "Age 10\n",
      "Child Ticket - $5\n"
     ]
    }
   ],
   "source": [
    "def determine_ticket_type(age):\n",
    "    \"\"\"Determine the type of ticket based on age.\"\"\"\n",
    "    if age < 5:\n",
    "        return \"Toddler Ticket - Free\"\n",
    "    elif age < 13:\n",
    "        return \"Child Ticket - $5\"\n",
    "    elif age < 60:\n",
    "        return \"Adult Ticket - $10\"\n",
    "    else:\n",
    "        return \"Senior Ticket - $7\"\n",
    "\n",
    "# Get age input from the user\n",
    "try:\n",
    "    age = int(input(\"Enter your age: \"))\n",
    "    print(\"Age \" + str(age))\n",
    "    # Determine and print the ticket type\n",
    "    print(determine_ticket_type(age))\n",
    "except ValueError:\n",
    "    print(\"Please enter a valid age.\")\n",
    "\n"
   ]
  },
  {
   "cell_type": "markdown",
   "metadata": {},
   "source": [
    "## Program with Purpose\n",
    "\n",
    "- This code gets and input of city and outputs the weather in that city."
   ]
  },
  {
   "cell_type": "code",
   "execution_count": 17,
   "metadata": {},
   "outputs": [
    {
     "name": "stdout",
     "output_type": "stream",
     "text": [
      "Weather in London:\n",
      "Temperature: 18.60°C\n",
      "Humidity: 84%\n",
      "Description: Broken clouds\n"
     ]
    }
   ],
   "source": [
    "import requests\n",
    "\n",
    "API_KEY = '2f154dace08459a35fe9522ff7de936d'\n",
    "BASE_URL = \"http://api.openweathermap.org/data/2.5/weather?\"\n",
    "\n",
    "def get_weather(city_name):\n",
    "    complete_url = BASE_URL + \"q=\" + city_name + \"&appid=\" + API_KEY\n",
    "    response = requests.get(complete_url)\n",
    "    data = response.json()\n",
    "\n",
    "    if data[\"cod\"] != 404:\n",
    "        main_data = data[\"main\"]\n",
    "        weather_data = data[\"weather\"][0]\n",
    "        temperature = main_data[\"temp\"] - 273.15  # Convert Kelvin to Celsius\n",
    "        humidity = main_data[\"humidity\"]\n",
    "        weather_description = weather_data[\"description\"]\n",
    "\n",
    "        return (f\"Weather in {city_name}:\\n\"\n",
    "                f\"Temperature: {temperature:.2f}°C\\n\"\n",
    "                f\"Humidity: {humidity}%\\n\"\n",
    "                f\"Description: {weather_description.capitalize()}\")\n",
    "    else:\n",
    "        return \"City Not Found!\"\n",
    "\n",
    "city_name = input(\"Enter city name: \")\n",
    "print(get_weather(city_name))\n"
   ]
  },
  {
   "cell_type": "markdown",
   "metadata": {},
   "source": [
    "# Program Design and Development\n",
    "\n",
    "## Proccess of Factorial.\n",
    "\n",
    "```python\n",
    "def factorial(n):\n",
    "    result = 1\n",
    "    for i in range(1, n + 1):\n",
    "        result *= i\n",
    "    return result\n",
    "\n",
    "# Get input from the user\n",
    "num = int(input(\"Enter a number to calculate its factorial: \"))\n",
    "\n",
    "# Check if the number is negative, zero, or positive\n",
    "if num < 0:\n",
    "    print(\"Sorry, factorial does not exist for negative numbers\")\n",
    "elif num == 0:\n",
    "    print(\"The factorial of 0 is 1\")\n",
    "else:\n",
    "    print(f\"The factorial of {num} is {factorial(num)}\")\n",
    "```\n",
    "\n",
    "<img src=\"https://uploads-ssl.webflow.com/6184b461a39ff1011f8c0582/62024415bfc03a78d2fa1b78_Factorial%20Flowchart.png\">"
   ]
  }
 ],
 "metadata": {
  "kernelspec": {
   "display_name": "Python 3",
   "language": "python",
   "name": "python3"
  },
  "language_info": {
   "codemirror_mode": {
    "name": "ipython",
    "version": 3
   },
   "file_extension": ".py",
   "mimetype": "text/x-python",
   "name": "python",
   "nbconvert_exporter": "python",
   "pygments_lexer": "ipython3",
   "version": "3.11.4"
  },
  "orig_nbformat": 4
 },
 "nbformat": 4,
 "nbformat_minor": 2
}
