{
 "cells": [
  {
   "cell_type": "markdown",
   "metadata": {},
   "source": [
    "---\n",
    "toc: true\n",
    "comments: true\n",
    "layout: post\n",
    "title: 3.12 and 3.13 Homework\n",
    "description: 3.12 and 3.12 Homework\n",
    "courses: { csp: {week: 9} }\n",
    "type: plans\n",
    "---"
   ]
  },
  {
   "cell_type": "markdown",
   "metadata": {},
   "source": [
    "# Notes\n",
    "\n",
    "## Parts of a Procedure\n",
    "    A group of programming instructions, also known as methods or functions.\n",
    "    Parameters are input values of a procedure, and arguments are the values of the parameters when the procedure is called.\n",
    "    A procedure call interrupts the sequential execution of statements, executes the procedure's statements, and then returns control to the point immediately following the call.\n",
    "\n",
    "## Procedure Example:\n",
    "    Procedures allow you to reuse sets of instructions, enhancing code reusability.\n",
    "    A procedure in Python is defined using the def keyword and can take parameters.\n",
    "    Parameters are the input values to a procedure, and when you call a procedure, you provide arguments.\n",
    "    A procedure can return a value using the return statement. The returned value can be assigned to a variable and manipulated."
   ]
  },
  {
   "cell_type": "markdown",
   "metadata": {},
   "source": [
    "# Homework Problem 1\n",
    "```python\n",
    "def procedural_abstraction(height, width, length):\n",
    "    \"\"\"this code takes three parameters: height, width, length\n",
    "    then it finds the volume and returns it in a formatted string response\n",
    "    \"\"\"\n",
    "    return f\"Volume is {height * width * length} units^3\"\n",
    "```\n",
    "\n",
    "# Homework Problem 2\n",
    "```python\n",
    "def summing_machine(first_number, second_number):\n",
    "    \"\"\"\n",
    "    This function takes two numbers as input and returns their sum.\n",
    "    \"\"\"\n",
    "    return first_number + second_number\n",
    "```"
   ]
  }
 ],
 "metadata": {
  "language_info": {
   "name": "python"
  }
 },
 "nbformat": 4,
 "nbformat_minor": 2
}
