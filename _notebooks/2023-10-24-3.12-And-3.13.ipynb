{
 "cells": [
  {
   "cell_type": "markdown",
   "metadata": {},
   "source": [
    "---\n",
    "toc: true\n",
    "comments: true\n",
    "layout: post\n",
    "title: 3.12 and 3.13 Homework\n",
    "description: 3.12 and 3.12 Homework\n",
    "courses: { csp: {week: 9} }\n",
    "type: plans\n",
    "---"
   ]
  },
  {
   "cell_type": "markdown",
   "metadata": {},
   "source": [
    "# Homework Problem 1\n",
    "```python\n",
    "def procedural_abstraction(height, width, length):\n",
    "    \"\"\"this code takes three parameters: height, width, length\n",
    "    then it finds the volume and returns it in a formatted string response\n",
    "    \"\"\"\n",
    "    return f\"Volume is {height * width * length} units^3\"\n",
    "```\n",
    "\n",
    "# Homework Problem 2\n",
    "```python\n",
    "def summing_machine(first_number, second_number):\n",
    "    \"\"\"\n",
    "    This function takes two numbers as input and returns their sum.\n",
    "    \"\"\"\n",
    "    return first_number + second_number\n",
    "```"
   ]
  }
 ],
 "metadata": {
  "language_info": {
   "name": "python"
  }
 },
 "nbformat": 4,
 "nbformat_minor": 2
}
