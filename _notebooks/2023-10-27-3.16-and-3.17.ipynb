{
 "cells": [
  {
   "cell_type": "markdown",
   "metadata": {},
   "source": [
    "---\n",
    "toc: true\n",
    "comments: true\n",
    "layout: post\n",
    "title: 3.16 and 3.17 Homework\n",
    "description: 3.16 and 3.17 Homework\n",
    "courses: { csp: {week: 10} }\n",
    "type: hacks\n",
    "---"
   ]
  },
  {
   "cell_type": "markdown",
   "metadata": {},
   "source": [
    "# Notes\n",
    "\n",
    "## Essential Knowledge:\n",
    "    Simulations are abstractions for complex objects or phenomena.\n",
    "    They mimic real-world events with simplifications.\n",
    "    Simulations are used to refine results or hypotheses.\n",
    "    They may have limitations or biases.\n",
    "    Examples include radar displays, RNG for simulating variability, and weather forecasting.\n",
    "    Car-testing simulations assume certain conditions like driver age and seatbelt use.\n",
    "\n",
    "## Flight Simulator:\n",
    "    Flight simulator is an example of a simulation.\n",
    "    It allows users to simulate flying real planes, choosing the plane type and location.\n",
    "    Benefits include cost savings, safety, and resource conservation.\n",
    "    Simulations save money and resources but aren't actual real-life experiences.\n",
    "\n",
    "## Vocabulary:\n",
    "    Simulation Abstraction: Errors or unusual occurrences in simulations.\n",
    "    Heuristic: an approach used when the best solution is impractical.\n",
    "\n",
    "## Simulations vs. Experiments:\n",
    "    Simulations mock real-world items without using the actual items.\n",
    "    Experiments involve real-world objects and equipment.\n",
    "    Simulations are often less expensive.\n",
    "    Experiments provide actual results.\n",
    "    Simulations can model impractical real-world events.\n",
    "    Experiments can be riskier and more invasive.\n",
    "    Simulations are safer and less expensive.\n",
    "\n",
    "## Algorithmic Efficiency:\n",
    "    It measures the fastest and least resource-dependent solution to a problem.\n",
    "    It's determined by the number of computations (steps) in an algorithm.\n",
    "    Efficiency varies with input size.\n",
    "\n",
    "## Basic Algorithm Example:\n",
    "    Sorting cards with comparisons and swaps.\n",
    "    More efficient algorithms require fewer comparisons and swaps.\n",
    "\n",
    "## Algorithm Efficiency Simply Explained:\n",
    "    Efficiency is measured by the number of steps.\n",
    "    Algorithms need to be analyzed with different input sizes.\n",
    "    Reasonable algorithms operate with polynomial efficiency."
   ]
  },
  {
   "cell_type": "markdown",
   "metadata": {},
   "source": [
    "# Problem 1\n",
    "\n",
    "```python\n",
    "def sort_numbers(a, b, c, d):\n",
    "    numbers = [a, b, c, d]  # Putting the numbers in a list\n",
    "    numbers.sort()  # Using the sort method to sort the numbers\n",
    "    return numbers  # Returning the sorted list\n",
    "sorted_numbers = sort_numbers(4, 1, 3, 2)\n",
    "print(f\"Sorted numbers: {sorted_numbers}\")\n",
    "```\n",
    "\n",
    "# Problem 2\n",
    "## Benefits\n",
    "- Exploration of Scenarios: Simulations allow the exploration of various scenarios without implementing them in real-life, thus saving costs and avoiding potential risks.\n",
    "- Enhanced Learning and Understanding: Simulations facilitate learning and comprehension by providing a visual and interactive way of exploring concepts and systems, especially in education and training programs.\n",
    "- Optimization: By simulating different scenarios, processes can be optimized to achieve improved efficiency, cost-effectiveness, and overall performance.\n",
    "\n",
    "## Negatives\n",
    " - Limited by Model Accuracy: A simulation is only as good as the model it is based on. If the model is inaccurate or lacks detail, the simulation results may not be reliable or reflective of real-world outcomes.\n"
   ]
  },
  {
   "cell_type": "markdown",
   "metadata": {},
   "source": [
    " # Problem 3\n",
    " Instagram, like many other social media platforms, utilizes complex algorithms to enhance user experience. One aspect where algorithms play a crucial role is in the content recommendation on the user's feed and \"Explore\" page."
   ]
  }
 ],
 "metadata": {
  "language_info": {
   "name": "python"
  }
 },
 "nbformat": 4,
 "nbformat_minor": 2
}
