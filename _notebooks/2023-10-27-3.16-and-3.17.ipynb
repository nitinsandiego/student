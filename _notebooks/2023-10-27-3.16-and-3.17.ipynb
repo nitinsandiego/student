{
 "cells": [
  {
   "cell_type": "markdown",
   "metadata": {},
   "source": [
    "---\n",
    "toc: true\n",
    "comments: true\n",
    "layout: post\n",
    "title: 3.16 and 3.17 Homework\n",
    "description: 3.16 and 3.17 Homework\n",
    "courses: { csp: {week: 9} }\n",
    "type: tangibles\n",
    "---"
   ]
  },
  {
   "cell_type": "markdown",
   "metadata": {},
   "source": [
    "# Problem 1\n",
    "\n",
    "```python\n",
    "def sort_numbers(a, b, c, d):\n",
    "    numbers = [a, b, c, d]  # Putting the numbers in a list\n",
    "    numbers.sort()  # Using the sort method to sort the numbers\n",
    "    return numbers  # Returning the sorted list\n",
    "sorted_numbers = sort_numbers(4, 1, 3, 2)\n",
    "print(f\"Sorted numbers: {sorted_numbers}\")\n",
    "```\n",
    "\n",
    "# Problem 2\n",
    "## Benefits\n",
    "- Exploration of Scenarios: Simulations allow the exploration of various scenarios without implementing them in real-life, thus saving costs and avoiding potential risks.\n",
    "- Enhanced Learning and Understanding: Simulations facilitate learning and comprehension by providing a visual and interactive way of exploring concepts and systems, especially in education and training programs.\n",
    "- Optimization: By simulating different scenarios, processes can be optimized to achieve improved efficiency, cost-effectiveness, and overall performance.\n",
    "## Negatives\n",
    " - Limited by Model Accuracy: A simulation is only as good as the model it is based on. If the model is inaccurate or lacks detail, the simulation results may not be reliable or reflective of real-world outcomes.\n"
   ]
  },
  {
   "cell_type": "markdown",
   "metadata": {},
   "source": [
    " # Problem 3\n",
    " Instagram, like many other social media platforms, utilizes complex algorithms to enhance user experience. One aspect where algorithms play a crucial role is in the content recommendation on the user's feed and \"Explore\" page."
   ]
  }
 ],
 "metadata": {
  "language_info": {
   "name": "python"
  }
 },
 "nbformat": 4,
 "nbformat_minor": 2
}
