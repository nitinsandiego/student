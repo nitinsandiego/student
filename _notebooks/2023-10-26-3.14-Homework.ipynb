{
 "cells": [
  {
   "cell_type": "markdown",
   "metadata": {},
   "source": [
    "---\n",
    "toc: true\n",
    "comments: true\n",
    "layout: post\n",
    "title: 3.14 Homework\n",
    "description: 3.14 Homework\n",
    "courses: { csp: {week: 9} }\n",
    "type: hacks\n",
    "---"
   ]
  },
  {
   "cell_type": "markdown",
   "metadata": {},
   "source": [
    "# Problem 1\n",
    "## NumPy (Numerical Python) \n",
    "Purpose: NumPy is fundamental for scientific computing with Python. It contains among other things a powerful N-dimensional array object and useful linear algebra, Fourier transform, and random number capabilities.\n",
    "    - `numpy.array()`: Creates an n-dimensional array. It is the foundation of NumPy, allowing for the performance of mathematical operations on arrays.\n",
    "    - `numpy.linspace()`: Returns evenly spaced numbers over a specified range, and it’s quite helpful in generating data points for plotting.\n",
    "## Pandas\n",
    "Purpose: Pandas offer data structures and operations for manipulating numerical tables and time series, which makes it suitable for data cleaning and analysis.\n",
    "    - `pandas.DataFrame()`: A two-dimensional, size-mutable, and potentially heterogeneous tabular data structure with labeled axes (rows and columns).\n",
    "    - `pandas.read_csv()`: Reads a comma-separated values (csv) file into DataFrame, a common method for importing data from spreadsheets or databases.\n",
    "## Matplotlib\n",
    "Purpose: Matplotlib is a 2D plotting library for creating static, animated, and interactive visualizations in Python.\n",
    "    - `matplotlib.pyplot.plot()`: Basic plotting function that allows for the creation of a variety of plots quickly.\n",
    "    - `matplotlib.pyplot.figure()`: Creates a new figure, which can be useful when generating multiple plots in the same script."
   ]
  },
  {
   "cell_type": "markdown",
   "metadata": {},
   "source": [
    "# Problem 2\n",
    "API: OpenWeatherMap API\n",
    "Type of API: RESTful API\n",
    "What it does: Provides weather data, which includes current weather, forecasts, nowcasts and historical weather data for any location in the world.\n",
    "Unique Feature: It has a One Call API endpoint that allows you to retrieve current, minutely, hourly, and daily weather forecasts using a single API call.\n",
    "Brainstorm Scenario: A potential application could be a personalized daily weather forecast notification system. Users receive notifications about the weather conditions of the day at their location, helping them plan their daily activities better."
   ]
  },
  {
   "cell_type": "markdown",
   "metadata": {},
   "source": [
    "# Problem 3\n",
    "```python\n",
    "import numpy as np  # Importing the numpy library and giving it a prefix np\n",
    "\n",
    "# Creating an array of 10 numbers\n",
    "array = np.array([0, 1, 2, 3, 4, 5, 6, 7, 8, 9])  \n",
    "\n",
    "# Using a prefixed function (np.mean)\n",
    "# Calculating the mean of the array\n",
    "mean_value = np.mean(array)  # The mean_value will hold the average of the numbers in the array\n",
    "\n",
    "# Using a prefixed variable (np.pi)\n",
    "# Creating an array of numbers multiplied by pi\n",
    "array_times_pi = array * np.pi  # np.pi represents the mathematical constant π (pi)\n",
    "\n",
    "# Displaying the results\n",
    "print(f\"Original array: {array}\")\n",
    "print(f\"Mean of the array: {mean_value}\")\n",
    "print(f\"Array multiplied by pi: {array_times_pi}\")\n",
    "```"
   ]
  }
 ],
 "metadata": {
  "language_info": {
   "name": "python"
  }
 },
 "nbformat": 4,
 "nbformat_minor": 2
}
