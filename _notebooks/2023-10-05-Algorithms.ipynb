{
 "cells": [
  {
   "cell_type": "markdown",
   "metadata": {},
   "source": [
    "---\n",
    "toc: true\n",
    "comments: true\n",
    "layout: post\n",
    "title: 3.3 and 3.4 Algorithms\n",
    "description: 3.3 and 3.4 Algorithms\n",
    "courses: { csp: {week: 6} }\n",
    "type: tangibles\n",
    "---"
   ]
  },
  {
   "cell_type": "markdown",
   "metadata": {},
   "source": [
    "# Homework"
   ]
  },
  {
   "cell_type": "code",
   "execution_count": 1,
   "metadata": {},
   "outputs": [
    {
     "name": "stdout",
     "output_type": "stream",
     "text": [
      "[0, 1, 1, 2, 3]\n"
     ]
    }
   ],
   "source": [
    "f0 = 0\n",
    "f1 = 1\n",
    "fiblist = [f0, f1]\n",
    "r = int(input(\"How many items do you want in your fibonacci sequence? Enter a number 2 or greater: \"))\n",
    "if r < 2:\n",
    "    print(\"Please enter a number greater than or equal to 2\")\n",
    "else:\n",
    "    for i in range(r-2):\n",
    "        x = fiblist[-1]\n",
    "        y = fiblist[-2]\n",
    "        fiblist.append(x + y)  # Add the sum of the previous 2 numbers to the list\n",
    "    print(fiblist)\n"
   ]
  },
  {
   "cell_type": "code",
   "execution_count": 6,
   "metadata": {},
   "outputs": [
    {
     "name": "stdout",
     "output_type": "stream",
     "text": [
      "Sorted array is: [11, 12, 22, 25, 34, 64, 90]\n"
     ]
    }
   ],
   "source": [
    "def bubble_sort(arr):\n",
    "    n = len(arr)\n",
    "    for i in range(n):\n",
    "        swapped = False\n",
    "        for j in range(0, n-i-1):\n",
    "            if arr[j] > arr[j+1]:\n",
    "                arr[j], arr[j+1] = arr[j+1], arr[j]\n",
    "                swapped = True\n",
    "                if not swapped:\n",
    "                    break\n",
    "    return arr\n",
    "arr = [64, 34, 25, 12, 22, 11, 90]\n",
    "bubble_sort(arr)\n",
    "print(\"Sorted array is:\", arr)\n"
   ]
  },
  {
   "cell_type": "code",
   "execution_count": 12,
   "metadata": {},
   "outputs": [
    {
     "name": "stdout",
     "output_type": "stream",
     "text": [
      "word is a False palindrome\n",
      "nitin is a True palindrome\n",
      "Nitin is a True palindrome\n"
     ]
    }
   ],
   "source": [
    "def is_palindrome(word):\n",
    "    return f\"{word} is a {word.lower() == word.lower()[::-1]} palindrome\"\n",
    "\n",
    "print(is_palindrome(\"word\"))\n",
    "print(is_palindrome(\"nitin\"))\n",
    "print(is_palindrome(\"Nitin\"))"
   ]
  },
  {
   "cell_type": "code",
   "execution_count": 13,
   "metadata": {},
   "outputs": [
    {
     "name": "stdout",
     "output_type": "stream",
     "text": [
      "Original Grocery List:\n",
      "['apples', 'bananas', 'carrots', 'dates', 'eggplants', 'figs']\n",
      "\n",
      "Sorted Grocery List:\n",
      "['apples', 'bananas', 'carrots', 'dates', 'eggplants', 'figs']\n"
     ]
    }
   ],
   "source": [
    "grocery_list = [\"apples\", \"bananas\", \"carrots\", \"dates\", \"eggplants\", \"figs\"]\n",
    "\n",
    "sorted_grocery_list = sorted(grocery_list)\n",
    "\n",
    "print(\"Original Grocery List:\")\n",
    "print(grocery_list)\n",
    "print(\"\\nSorted Grocery List:\")\n",
    "print(sorted_grocery_list)"
   ]
  }
 ],
 "metadata": {
  "kernelspec": {
   "display_name": "Python 3",
   "language": "python",
   "name": "python3"
  },
  "language_info": {
   "codemirror_mode": {
    "name": "ipython",
    "version": 3
   },
   "file_extension": ".py",
   "mimetype": "text/x-python",
   "name": "python",
   "nbconvert_exporter": "python",
   "pygments_lexer": "ipython3",
   "version": "3.11.5"
  },
  "orig_nbformat": 4
 },
 "nbformat": 4,
 "nbformat_minor": 2
}
