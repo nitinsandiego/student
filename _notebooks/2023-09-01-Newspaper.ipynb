{
 "cells": [
  {
   "cell_type": "markdown",
   "metadata": {},
   "source": [
    "---\n",
    "layout: post\n",
    "title: Newspaper Read\n",
    "description: This reads a newspaper using python.\n",
    "toc: false\n",
    "comments: false\n",
    "courses: { csp: {week: 3} }\n",
    "type: hacks\n",
    "---"
   ]
  },
  {
   "cell_type": "code",
   "execution_count": 1,
   "metadata": {},
   "outputs": [
    {
     "data": {
      "text/markdown": [
       "Lewis Hamilton extends Mercedes stay until the end of the 2025 season"
      ],
      "text/plain": [
       "<IPython.core.display.Markdown object>"
      ]
     },
     "metadata": {},
     "output_type": "display_data"
    },
    {
     "data": {
      "text/markdown": [
       "CNN —\n",
       "\n",
       "Lewis Hamilton will remain a Mercedes driver in Formula One until at least the end of the 2025 season after the team announced a contract extension on Thursday.\n",
       "\n",
       "Hamilton, who shares the record for most F1 world titles with Michael Schumacher (seven), joined Mercedes in 2013 after starting his career with McLaren in 2007.\n",
       "\n",
       "The 38-year-old owns the outright record for most race wins in F1 history with 103. The 2022 season was the first of his career without a single Grand Prix victory as long-time rival Max Verstappen dominated with Red Bull.\n",
       "\n",
       "In the Mercedes press release, Hamilton said, “We dream every day of being the best and we have dedicated the past decade together to achieving that goal.\n",
       "\n",
       "“Being at the top does not happen overnight or over a short period of time, it takes commitment, hard work and dedication and it’s been an honour to earn our way into the history books with this incredible team.\n",
       "\n",
       "“We have never been hungrier to win … I’m grateful to the team who have supported me both on and off the track. Our story isn’t finished, we are determined to achieve more together and we won’t stop until we do.”\n",
       "\n",
       "The new deal with Mercedes will allay retirement fears for Hamilton’s fans and sees him stay in the sport beyond his 40th birthday.\n",
       "\n",
       "Hamilton’s teammate, fellow Brit George Russell, also extended his contract with the outfit until the end of 2025.\n",
       "\n",
       "“I have grown up with this team ever since joining as part of the Junior programme back in 2017,” Russell said.\n",
       "\n",
       "“It’s my home and it feels fantastic to extend our special relationship through 2025.”"
      ],
      "text/plain": [
       "<IPython.core.display.Markdown object>"
      ]
     },
     "metadata": {},
     "output_type": "display_data"
    }
   ],
   "source": [
    "from newspaper import Article\n",
    "from IPython.display import display, Markdown\n",
    "\n",
    "# Gets News Article from User\n",
    "url = input(\"Enter the news article you want to know: \")\n",
    "\n",
    "article = Article(url)\n",
    "article.download()\n",
    "article.parse()\n",
    "# Jupyter Notebook Display\n",
    "# print(article.title)\n",
    "display(Markdown(article.title)) # Jupyter display only\n",
    "display(Markdown(article.text)) # Jupyter display only\n"
   ]
  }
 ],
 "metadata": {
  "kernelspec": {
   "display_name": "Python 3",
   "language": "python",
   "name": "python3"
  },
  "language_info": {
   "codemirror_mode": {
    "name": "ipython",
    "version": 3
   },
   "file_extension": ".py",
   "mimetype": "text/x-python",
   "name": "python",
   "nbconvert_exporter": "python",
   "pygments_lexer": "ipython3",
   "version": "3.11.4"
  },
  "orig_nbformat": 4
 },
 "nbformat": 4,
 "nbformat_minor": 2
}
