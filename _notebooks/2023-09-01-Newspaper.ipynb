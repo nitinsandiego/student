{
 "cells": [
  {
   "cell_type": "markdown",
   "metadata": {},
   "source": [
    "---\n",
    "layout: post\n",
    "title: Newspaper Read\n",
    "description: This reads a newspaper using python.\n",
    "toc: false\n",
    "comments: false\n",
    "courses: { csp: {week: 3} }\n",
    "type: hacks\n",
    "---"
   ]
  },
  {
   "cell_type": "code",
   "execution_count": 2,
   "metadata": {},
   "outputs": [
    {
     "data": {
      "text/markdown": [
       "Lewis Hamilton on the hard work that made him a sporting legend"
      ],
      "text/plain": [
       "<IPython.core.display.Markdown object>"
      ]
     },
     "metadata": {},
     "output_type": "display_data"
    },
    {
     "data": {
      "text/markdown": [
       "CNN —\n",
       "\n",
       "Lewis Hamilton is one of the greatest sportsmen of his generation, a seven-time world champion and an influential philanthropist. But there was a time when his life wasn’t quite as glamorous.\n",
       "\n",
       "In an interview with CNN Sport’s Coy Wire, Hamilton recollected some of his first jobs: from washing cars and selling sneakers, to serving drinks (badly) in a bar.\n",
       "\n",
       "While the Englishman’s CV has changed somewhat since his teenage days, the 38-year-old said he valued the lessons he learned from balancing college work and part-time employment with trying to fulfill his dream of becoming an F1 driver.\n",
       "\n",
       "“I tried a bunch of different things, but when I was at work, all I was thinking of was how I’m going to win the next race,” Hamilton said, looking relaxed ahead of this weekend’s Miami Grand Prix.\n",
       "\n",
       "“I think people do see successful people on social media and it’s hard to understand how much grafting it takes to get to a good place.\n",
       "\n",
       "“The crazy thing is I’m in my 17th year of this sport […] I’m still grafting. I’m still having to chip away. I’m still having to work like never before to be able to excel in a sport that’s constantly evolving.\n",
       "\n",
       "“The competition is constantly rising. It’s getting tougher and tougher by the year. You just have to have the winning mindset and belief in yourself that you will get there no matter how many times you fall.”\n",
       "\n",
       "Winning races has come naturally to Hamilton throughout his career. In fact, no one in the history of the sport has won more.\n",
       "\n",
       "But success has been harder to come by of late, with his Mercedes car struggling to compete with the speed of Red Bull.\n",
       "\n",
       "Despite becoming an underdog in the past two seasons – Hamilton has not won a race since 2021 – he believes he could one day secure a record eighth world championship title.\n",
       "\n",
       "“That’s what I’m working towards,” he said.\n",
       "\n",
       "Hamilton always dreamed of making it big in motorsport. Richard Saker/Shutterstock\n",
       "\n",
       "Making a difference\n",
       "\n",
       "Hamilton spoke to CNN Sport at an International Watch Company (IWC) event in Miami, where he participated in basketball challenges alongside other famous faces.\n",
       "\n",
       "While Hamilton, a IWC ambassador, was not particularly impressed with his own skills on the court, he was happy to be competing in an event organized in collaboration with non-profit charity, Dibia DREAM.\n",
       "\n",
       "The US-based charity aims to bring about social change through STEM (science, technology, engineering and mathematics) and recreational education for underserved communities, a cause which matches Hamilton’s own ambitions.\n",
       "\n",
       "In addition to being a voice on issues such as climate change, Hamilton has put pressure on his sport, and wider society, to become more equal and inclusive.\n",
       "\n",
       "It’s a mission perhaps born out of his own experiences – Hamilton previously told CNN that the education system in the UK “failed” him after he was kicked out of school for something he said he didn’t do.\n",
       "\n",
       "Black Caribbean students were around 1.7 times more likely to be permanently expelled from UK schools compared with White British students, according to the Hamilton Commission – a report led by the driver which looked to address the underrepresentation of Black people in UK motorsport and the STEM sector.\n",
       "\n",
       "He has since channeled his own setbacks into a cause for good, setting up Mission 44 – a foundation that looks to support, promote and empower underrepresented young people in the UK.\n",
       "\n",
       "“It’s just showing career choices, showing what STEM can lead to and encouraging young kids,” he said.\n",
       "\n",
       "“Education is so key, so important. The foundation, STEM, is so important to growth and opportunity.”\n",
       "\n",
       "Loving the US\n",
       "\n",
       "Hamilton has recently become a part owner of the NFL’s Denver Broncos. He said he spends much of his time off in Colorado and was persuaded to invest in the team after conversations he had around making positive change.\n",
       "\n",
       "“It’s been quite an overwhelming experience. The opportunity came up and I leaped at it,” he said.\n",
       "\n",
       "“There’s not a lot of Black equity and Black leadership within sports in general, so that’s something I’m really passionate about being a part of changing. The further you go up the pyramid, the less diverse it is.”\n",
       "\n",
       "Hamilton has struggled to compete with his rivals since last season. Quinn Rooney/Getty Images\n",
       "\n",
       "He added: “When we were talking, [the Broncos] were talking about how we can really have an impact and create more diversity within the organization. That for me was the selling point.\n",
       "\n",
       "“There’s a lot of work to do within the community. They already have a huge, diverse fan base, but I think internally we can also improve that.”\n",
       "\n",
       "The Miami leg of the F1 season was introduced to the calendar for the first time last year and promises to yet again attract famous faces from across the worlds of music, fashion and sport.\n",
       "\n",
       "It’s a space that Hamilton feels more than comfortable in.\n",
       "\n",
       "“I never really fully understood why the sport wasn’t as loved here and just to finally see the growth, the amount of love the American fans have been giving our sport,” he said.\n",
       "\n",
       "“There’s so much warmth and excitement. I’m really grateful for it.\n",
       "\n",
       "“In Miami, just the energy here is incredible, so it’s one of the most fun weekends we get to have.”"
      ],
      "text/plain": [
       "<IPython.core.display.Markdown object>"
      ]
     },
     "metadata": {},
     "output_type": "display_data"
    }
   ],
   "source": [
    "from newspaper import Article\n",
    "from IPython.display import display, Markdown\n",
    "\n",
    "# Gets News Article from User\n",
    "url = input(\"Enter the news article you want to know: \")\n",
    "\n",
    "article = Article(url)\n",
    "article.download()\n",
    "article.parse()\n",
    "# Jupyter Notebook Display\n",
    "# print(article.title)\n",
    "display(Markdown(article.title)) # Jupyter display only\n",
    "display(Markdown(article.text)) # Jupyter display only\n"
   ]
  }
 ],
 "metadata": {
  "kernelspec": {
   "display_name": "Python 3",
   "language": "python",
   "name": "python3"
  },
  "language_info": {
   "codemirror_mode": {
    "name": "ipython",
    "version": 3
   },
   "file_extension": ".py",
   "mimetype": "text/x-python",
   "name": "python",
   "nbconvert_exporter": "python",
   "pygments_lexer": "ipython3",
   "version": "3.11.4"
  },
  "orig_nbformat": 4
 },
 "nbformat": 4,
 "nbformat_minor": 2
}
