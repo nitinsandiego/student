{
 "cells": [
  {
   "cell_type": "markdown",
   "metadata": {},
   "source": [
    "---\n",
    "layout: post\n",
    "title: Newspaper Read\n",
    "description: This reads a newspaper using python.\n",
    "toc: false\n",
    "comments: false\n",
    "courses: { csp: {week: 3} }\n",
    "type: hacks\n",
    "---"
   ]
  },
  {
   "cell_type": "code",
   "execution_count": 1,
   "metadata": {},
   "outputs": [
    {
     "data": {
      "text/markdown": [
       "Lewis Hamilton extends Mercedes stay until the end of the 2025 season"
      ],
      "text/plain": [
       "<IPython.core.display.Markdown object>"
      ]
     },
     "metadata": {},
     "output_type": "display_data"
    },
    {
     "data": {
      "text/markdown": [
       "CNN —\n",
       "\n",
       "Lewis Hamilton will remain a Mercedes driver in Formula One until at least the end of the 2025 season after the team announced a contract extension on Thursday.\n",
       "\n",
       "Hamilton, who shares the record for most F1 world titles with Michael Schumacher (seven), joined Mercedes in 2013 after starting his career with McLaren in 2007.\n",
       "\n",
       "The 38-year-old owns the outright record for most race wins in F1 history with 103. The 2022 season was the first of his career without a single Grand Prix victory as long-time rival Max Verstappen dominated with Red Bull.\n",
       "\n",
       "In the Mercedes press release, Hamilton said, “We dream every day of being the best and we have dedicated the past decade together to achieving that goal.\n",
       "\n",
       "“Being at the top does not happen overnight or over a short period of time, it takes commitment, hard work and dedication and it’s been an honour to earn our way into the history books with this incredible team.\n",
       "\n",
       "“We have never been hungrier to win … I’m grateful to the team who have supported me both on and off the track. Our story isn’t finished, we are determined to achieve more together and we won’t stop until we do.”\n",
       "\n",
       "The new deal with Mercedes will allay retirement fears for Hamilton’s fans and sees him stay in the sport beyond his 40th birthday.\n",
       "\n",
       "Hamilton’s teammate, fellow Brit George Russell, also extended his contract with the outfit until the end of 2025.\n",
       "\n",
       "“I have grown up with this team ever since joining as part of the Junior programme back in 2017,” Russell said.\n",
       "\n",
       "“It’s my home and it feels fantastic to extend our special relationship through 2025.”"
      ],
      "text/plain": [
       "<IPython.core.display.Markdown object>"
      ]
     },
     "metadata": {},
     "output_type": "display_data"
    },
    {
     "name": "stdout",
     "output_type": "stream",
     "text": [
      "\n",
      "\n"
     ]
    },
    {
     "data": {
      "text/markdown": [
       "2023 Italian Grand Prix FP2 report and highlights: Sainz leads Norris as Perez crashes out during second practice at Monza"
      ],
      "text/plain": [
       "<IPython.core.display.Markdown object>"
      ]
     },
     "metadata": {},
     "output_type": "display_data"
    },
    {
     "data": {
      "text/markdown": [
       "Carlos Sainz put Ferrari at the top of the timesheets on their home soil as he set the pace during Friday’s second practice session for the Italian Grand Prix, leading the way from McLaren’s Lando Norris and Red Bull’s Sergio Perez, who crashed late in the session. With an Alternative Tyre Allocation in play this weekend, it was another busy session around the ‘Temple of Speed’ as drivers and teams gathered more valuable data on the soft, medium and hard compounds in use – incidentally the softest from Pirelli’s range. FP1: Verstappen heads Sainz and Perez in busy opening practice session in Monza One man who missed out on that running was Lance Stroll, who had only just taken over the cockpit from reserve driver and FP1 runner Felipe Drugovich when he came to a halt coming out of the Ascari chicane due to a fuel system issue in the opening minutes. Following that stoppage, and once all drivers had posted a time on softs, it was Sainz who held P1 with a 1m 21.355s, putting him just 0.019s ahead of former team mate Norris, while Perez set a time strong enough for third before going too wide at the Curva Alboreto (formerly the Parabolica), slid through the gravel and clipped the wall, bringing out another red flag.\n",
       "\n",
       "FORMULA 1 PIRELLI GRAN PREMIO D’ITALIA 2023 Italy 2023 Practice 2 results POSITION TIME 1 Carlos Sainz SAI Ferrari 1:21.355 2 Lando Norris NOR McLaren +0.019s 3 Sergio Perez PER Red Bull Racing +0.185s 4 Oscar Piastri PIA McLaren +0.190s 5 Max Verstappen VER Red Bull Racing +0.276s\n",
       "\n",
       "However, there were also some traffic-related dramas for Perez’s team mate, Max Verstappen, who described his middle sector as “shocking” as he dodged several slower-moving cars en route to a time that would leave him just over a quarter of a second down on Sainz’s benchmark. In another entertaining radio exchange, Verstappen asked the Red Bull pit wall for a second soft-shod lap to “have a proper read”, only for his Race Engineer, Gianpiero Lambiase, to declare that “it’s not qualifying” and insist on no changes to the run plan. READ MORE: Brand new ‘Hybrid Energy System’ graphic set to debut at Italian Grand Prix Oscar Piastri made it two McLarens in the top four as he also slotted ahead of Verstappen, with the other Ferrari of Charles Leclerc taking sixth and Alex Albon’s slippery Williams ending up seventh – the Grove outfit going early with their runs on softs. After Stroll’s aforementioned stoppage, Fernando Alonso was the sole Aston Martin for the majority of the session en route to eighth, followed by the Mercedes of George Russell and Haas machines of Nico Hulkenberg and Kevin Magnussen.\n",
       "\n",
       "Drivers began to push the limits around the high-speed Monza circuit on Friday afternoon"
      ],
      "text/plain": [
       "<IPython.core.display.Markdown object>"
      ]
     },
     "metadata": {},
     "output_type": "display_data"
    },
    {
     "name": "stdout",
     "output_type": "stream",
     "text": [
      "\n",
      "\n"
     ]
    }
   ],
   "source": [
    "from newspaper import Article\n",
    "from IPython.display import display, Markdown\n",
    "\n",
    "\n",
    "urls = [\"https://www.cnn.com/2023/08/31/sport/lewis-hamilton-mercedes-f1-extension-spt-intl/index.html\", \n",
    "        \"https://www.formula1.com/en/latest/article.fp2-sainz-leads-norris-as-perez-crashes-out-during-second-practice-at-monza.6i36e6cDVAeIgFlJP4yFfN.html\"]\n",
    "\n",
    "for url in urls:\n",
    "    article = Article(url)\n",
    "    article.download()\n",
    "    article.parse()\n",
    "    # Jupyter Notebook Display\n",
    "    # print(article.title)\n",
    "    display(Markdown(article.title)) # Jupyter display only\n",
    "    display(Markdown(article.text)) # Jupyter display only\n",
    "    print(\"\\n\")"
   ]
  }
 ],
 "metadata": {
  "kernelspec": {
   "display_name": "Python 3",
   "language": "python",
   "name": "python3"
  },
  "language_info": {
   "codemirror_mode": {
    "name": "ipython",
    "version": 3
   },
   "file_extension": ".py",
   "mimetype": "text/x-python",
   "name": "python",
   "nbconvert_exporter": "python",
   "pygments_lexer": "ipython3",
   "version": "3.11.4"
  },
  "orig_nbformat": 4
 },
 "nbformat": 4,
 "nbformat_minor": 2
}
