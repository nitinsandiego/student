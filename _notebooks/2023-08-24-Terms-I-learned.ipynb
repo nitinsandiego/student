{
 "cells": [
  {
   "cell_type": "markdown",
   "metadata": {},
   "source": [
    "---\n",
    "comments: true\n",
    "layout: post\n",
    "title: Terms I learned\n",
    "description: All of the terms I have learned so far in AP CSP Course.\n",
    "---"
   ]
  },
  {
   "cell_type": "markdown",
   "metadata": {},
   "source": [
    "# Terms I learned\n",
    "- **cd**: change directory\n",
    "- **ls**: lists attributes of files and directories\n",
    "- **mkdir**: make a new directory\n",
    "- **git clone**: downloads an existing Git repository to your local computer\n",
    "- **README.md**: contains instructions and background information about the project\n",
    "- **index.md**: source file for the home page of the project\n",
    "- **_notebooks**: contains Jupyter Notebook (.ipynb) files\n",
    "- **_posts**: contains Markdown (.md) files that will be part of the website\n",
    "- **_data**: the standard location for storing data files that support the _posts or _notebooks directories\n",
    "- **images**: standard location for storing image files (JPEG, PNG, etc.) that support the _posts or _notebooks directories\n",
    "- **_config.yml**: standard location for storing image files (JPEG, PNG, etc.) that support the _posts or _notebooks directories\n",
    "- **.gitignore**: specifies elements to be excluded from version control. Files are excluded when they are derived from the original source and not considered part of the project’s source code\n",
    "- **make**: runs the local server\n",
    "- **make clean**: stops the local server and cleans the files\n",
    "- **make stop**: stops local server\n",
    "- **make convert**: onverts Jupyter Notebook files, run this if .ipynb files are not updating on the server\n",
    "- **bundle install**: command installs the dependencies in your Gemfile\n",
    "- **brew**: installs the stuff you need that Apple didn't\n"
   ]
  }
 ],
 "metadata": {
  "kernelspec": {
   "display_name": "Python 3",
   "language": "python",
   "name": "python3"
  },
  "language_info": {
   "codemirror_mode": {
    "name": "ipython",
    "version": 3
   },
   "file_extension": ".py",
   "mimetype": "text/x-python",
   "name": "python",
   "nbconvert_exporter": "python",
   "pygments_lexer": "ipython3",
   "version": "3.11.4"
  },
  "orig_nbformat": 4
 },
 "nbformat": 4,
 "nbformat_minor": 2
}
