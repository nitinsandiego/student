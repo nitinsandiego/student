{
 "cells": [
  {
   "cell_type": "markdown",
   "metadata": {},
   "source": [
    "---\n",
    "toc: true\n",
    "layout: post\n",
    "title: Ideation\n",
    "description: Ideation\n",
    "type: hacks\n",
    "courses: { csp: {week: 13} }\n",
    "---"
   ]
  },
  {
   "cell_type": "markdown",
   "metadata": {},
   "source": [
    "# Definition of Binary\n",
    "The binary system is a two-digit (0 and 1) numeral system essential for digital technology. In computing, binary represents data and executes operations using bits, the smallest unit of data. Each binary digit, or bit, represents an exponential value based on its position. Computers use binary for efficient physical electronic circuitry, representing on-off states. Binary is foundational in all digital devices, encoding everything from numbers to complex data like images and sound.\n",
    "\n",
    "\n",
    "## How can we use this in the art of coding?\n",
    "The binary system is integral to coding, serving as the fundamental language of computers and digital processes. Programmers often use binary for low-level programming and understanding machine language, essential for optimizing software performance. Binary logic, underpinning operations like AND, OR, and NOT, is crucial in developing algorithms and solving computational problems. Knowledge of binary aids in understanding how high-level code is translated into machine-readable format, enhancing debugging and system design skills. Additionally, binary is key in fields like cryptography and data compression, where precise bit manipulation is vital for encoding and securing information."
   ]
  },
  {
   "cell_type": "markdown",
   "metadata": {},
   "source": [
    "## Our Idea of a project\n",
    "We plan to include many features of the logical operation component of binary. We plan to do technical opereations such as encryption and decryption and explore the idea of cryptography in our project. In addition we plan to use SAAS as a univesal component of styling in our project. SAAS provides us a universal style by modifying already published styles and elements. \n",
    "\n",
    "## Features that we plan to include\n",
    "1. Binary encryption\n",
    "Implement a feature that allows users to encrypt and decrypt text messages using binary code. This could include basic binary conversion techniques or more complex algorithms for those interested in cryptography. It could also feature an educational component explaining how encryption and decryption work in the realm of binary computing.\n",
    "2. Logical Operations (Calculators)\n",
    "Binary is not just for representing numbers; it's also used for performing logical operations in computing. Logical operations, such as AND, OR, and NOT, are fundamental to computer processors. They allow computers to make decisions and perform complex tasks by manipulating bits.\n",
    "3. Binary Data Compression\n",
    "Create a feature that compresses text or data files using binary encoding schemes, demonstrating efficient data storage techniques.\n",
    "4. Binary Image Processing\n",
    " Implement an image processing feature that manipulates images at the binary level, such as binary thresholding or dithering techniques.\n",
    "5. Dark and Light Mode \n",
    "Implement a feature where users design patterns for LED displays using a binary interface. Users would turn LEDs on (1) or off (0) to create custom images or messages.\n",
    "6. Binary Puzzle\n",
    "A binary puzzle feature in an application or a game can be both entertaining and educational, leveraging the binary number system's properties."
   ]
  },
  {
   "cell_type": "markdown",
   "metadata": {},
   "source": [
    "# Binary Encryption\n",
    "Combining HTML, CSS, and Python to implement binary encryption creates a versatile and educational web-based tool. Utilizing HTML and CSS, you can craft a user-friendly interface with input fields for plaintext and keys, buttons for initiating encryption and decryption, and display areas for the encrypted binary data and decrypted messages. This interface is enhanced by CSS to visually represent the binary data transformations. The backend encryption logic is handled by Python, which excels in binary data manipulation and supports both simple bitwise operations, like XOR, and more advanced techniques using libraries such as `PyCrypto` or `Cryptography`. Integrating the frontend with the Python backend through a framework like Flask or Django allows for seamless data processing, with secure data handling via HTTPS for sensitive information. This setup not only serves as a practical tool for encrypting data for storage or transmission but also as an interactive learning platform, helping users understand different encryption methods and the underlying binary principles.\n"
   ]
  },
  {
   "cell_type": "code",
   "execution_count": null,
   "metadata": {
    "vscode": {
     "languageId": "html"
    }
   },
   "outputs": [],
   "source": [
    "<input type=\"text\" id=\"plaintext\" placeholder=\"Enter plaintext\">\n",
    "<input type=\"text\" id=\"key\" placeholder=\"Enter key\">\n",
    "<button onclick=\"encryptData()\">Encrypt</button>\n",
    "<div id=\"encryptedOutput\"></div>"
   ]
  },
  {
   "cell_type": "code",
   "execution_count": null,
   "metadata": {
    "vscode": {
     "languageId": "html"
    }
   },
   "outputs": [],
   "source": [
    "#encryptedOutput {\n",
    "    font-family: 'Courier New', monospace;\n",
    "    color: #4CAF50;\n",
    "  }  "
   ]
  },
  {
   "cell_type": "code",
   "execution_count": null,
   "metadata": {},
   "outputs": [],
   "source": [
    "def xor_encrypt(plaintext, key):\n",
    "    binary_data = ''.join(format(ord(c), '08b') for c in plaintext)\n",
    "    binary_key = ''.join(format(ord(c), '08b') for c in key)\n",
    "    encrypted = ''.join(chr(int(a) ^ int(b)) for a, b in zip(binary_data, binary_key))\n",
    "    return encrypted\n"
   ]
  },
  {
   "cell_type": "markdown",
   "metadata": {},
   "source": [
    "# Binary Logical Operations\n",
    "Combining binary logical operations with HTML, CSS, and Python into a unified web application involves creating an interactive and educational platform. This application uses HTML to craft a user-friendly interface where users input binary values and select operations like AND, OR, XOR, and NOT. CSS is employed to style the interface and dynamically visualize binary data, highlighting individual bits and illustrating the effects of the selected operations. The backend, powered by Python, processes these binary logical operations using built-in bitwise operators. Through a web framework like Flask or Django, the frontend and backend are seamlessly integrated, allowing users to interact with the interface and receive real-time feedback on the binary operations performed. This setup not only serves as an interactive tool for learning and experimenting with binary logic but also demonstrates the application of these fundamental computing processes in a high-level web development context. The combination of frontend interactivity, visual appeal, and backend processing power makes this application a compelling educational resource in understanding and applying binary logic in digital computing."
   ]
  },
  {
   "cell_type": "code",
   "execution_count": null,
   "metadata": {
    "vscode": {
     "languageId": "html"
    }
   },
   "outputs": [],
   "source": [
    "<!DOCTYPE html>\n",
    "<html>\n",
    "<head>\n",
    "    <title>Binary Logic Operations</title>\n",
    "    <!-- Link to CSS for styling -->\n",
    "</head>\n",
    "<body>\n",
    "    <input type=\"text\" id=\"input1\" placeholder=\"Enter first binary number\">\n",
    "    <input type=\"text\" id=\"input2\" placeholder=\"Enter second binary number\">\n",
    "    <select id=\"operation\">\n",
    "        <option value=\"AND\">AND</option>\n",
    "        <option value=\"OR\">OR</option>\n",
    "        <option value=\"XOR\">XOR</option>\n",
    "        <option value=\"NOT\">NOT</option>\n",
    "    </select>\n",
    "    <button onclick=\"performOperation()\">Calculate</button>\n",
    "    <div id=\"result\">Result will be displayed here</div>\n",
    "\n",
    "    <!-- Link to JavaScript for functionality -->\n",
    "</body>\n",
    "</html>\n"
   ]
  },
  {
   "cell_type": "code",
   "execution_count": null,
   "metadata": {
    "vscode": {
     "languageId": "html"
    }
   },
   "outputs": [],
   "source": [
    "body {\n",
    "    font-family: Arial, sans-serif;\n",
    "    text-align: center;\n",
    "    margin-top: 50px;\n",
    "}\n",
    "\n",
    "input, select, button {\n",
    "    margin: 10px;\n",
    "    padding: 5px;\n",
    "}\n",
    "\n",
    "#result {\n",
    "    margin-top: 20px;\n",
    "    font-size: 20px;\n",
    "    color: blue;\n",
    "}"
   ]
  },
  {
   "cell_type": "code",
   "execution_count": null,
   "metadata": {},
   "outputs": [],
   "source": [
    "from flask import Flask, request, jsonify\n",
    "\n",
    "app = Flask(__name__)\n",
    "\n",
    "@app.route('/operate', methods=['POST'])\n",
    "def operate():\n",
    "    data = request.get_json()\n",
    "    op = data['operation']\n",
    "    num1 = int(data['input1'], 2)\n",
    "    num2 = int(data['input2'], 2)\n",
    "\n",
    "    if op == 'AND':\n",
    "        result = num1 & num2\n",
    "    elif op == 'OR':\n",
    "        result = num1 | num2\n",
    "    elif op == 'XOR':\n",
    "        result = num1 ^ num2\n",
    "    elif op == 'NOT':\n",
    "        result = ~num1\n",
    "\n",
    "    return jsonify({'result': bin(result)[2:]})\n",
    "\n",
    "if __name__ == '__main__':\n",
    "    app.run(debug=True)"
   ]
  },
  {
   "cell_type": "markdown",
   "metadata": {},
   "source": [
    "# Binary Image Processing\n",
    "A binary image processing feature in an application involves manipulating images using binary operations, primarily working with images in a binary format (black and white, with no gray scale). This process usually includes converting colored or grayscale images into binary by setting a threshold, where pixels above this threshold are turned white (represented by 1 in binary), and those below are turned black (represented by 0). Common operations in binary image processing include morphological operations like dilation and erosion, which modify the structure of the image, edge detection to highlight significant changes in color, and noise removal to enhance image clarity. This technique is widely used in various fields, including computer vision, medical imaging, and pattern recognition, as it simplifies the image data, making it easier to analyze and extract relevant information from the image."
   ]
  },
  {
   "cell_type": "code",
   "execution_count": null,
   "metadata": {
    "vscode": {
     "languageId": "html"
    }
   },
   "outputs": [],
   "source": [
    "<!DOCTYPE html>\n",
    "<html lang=\"en\">\n",
    "<head>\n",
    "    <meta charset=\"UTF-8\">\n",
    "    <meta name=\"viewport\" content=\"width=device-width, initial-scale=1.0\">\n",
    "    <title>Binary Image Converter</title>\n",
    "    <link rel=\"stylesheet\" href=\"style.css\">\n",
    "</head>\n",
    "<body>\n",
    "    <div class=\"container\">\n",
    "        <h2>Upload an Image</h2>\n",
    "        <input type=\"file\" id=\"imageInput\" accept=\"image/*\">\n",
    "        <button id=\"uploadButton\">Convert to Binary</button>\n",
    "        <div id=\"result\"></div>\n",
    "    </div>\n",
    "    <script src=\"script.js\"></script>\n",
    "</body>\n",
    "</html>\n"
   ]
  },
  {
   "cell_type": "code",
   "execution_count": null,
   "metadata": {
    "vscode": {
     "languageId": "html"
    }
   },
   "outputs": [],
   "source": [
    "body {\n",
    "    font-family: Arial, sans-serif;\n",
    "    text-align: center;\n",
    "    padding: 20px;\n",
    "}\n",
    "\n",
    ".container {\n",
    "    width: 80%;\n",
    "    margin: auto;\n",
    "    padding: 20px;\n",
    "    border: 1px solid #ddd;\n",
    "    box-shadow: 2px 2px 8px rgba(0,0,0,0.1);\n",
    "}\n",
    "\n",
    "#result img {\n",
    "    max-width: 100%;\n",
    "    height: auto;\n",
    "    margin-top: 20px;\n",
    "}\n"
   ]
  },
  {
   "cell_type": "code",
   "execution_count": null,
   "metadata": {
    "vscode": {
     "languageId": "javascript"
    }
   },
   "outputs": [],
   "source": [
    "document.getElementById('uploadButton').addEventListener('click', function() {\n",
    "    var input = document.getElementById('imageInput');\n",
    "    if(input.files && input.files[0]) {\n",
    "        var reader = new FileReader();\n",
    "        \n",
    "        reader.onload = function(e) {\n",
    "            var img = document.createElement('img');\n",
    "            img.src = e.target.result;\n",
    "            img.onload = function() {\n",
    "                // Perform binary conversion (mock-up, actual conversion would be backend)\n",
    "                var canvas = document.createElement('canvas');\n",
    "                var ctx = canvas.getContext('2d');\n",
    "                canvas.width = img.width;\n",
    "                canvas.height = img.height;\n",
    "                ctx.drawImage(img, 0, 0);\n",
    "                \n",
    "                var imageData = ctx.getImageData(0, 0, canvas.width, canvas.height);\n",
    "                var data = imageData.data;\n",
    "                for(var i = 0; i < data.length; i += 4) {\n",
    "                    var avg = (data[i] + data[i +1] + data[i +2]) / 3;\n",
    "                    var color = avg > 128 ? 255 : 0;\n",
    "                    data[i]     = color; // red\n",
    "                    data[i + 1] = color; // green\n",
    "                    data[i + 2] = color; // blue\n",
    "                }\n",
    "                ctx.putImageData(imageData, 0, 0);\n",
    "\n",
    "                document.getElementById('result').innerHTML = '';\n",
    "                document.getElementById('result').appendChild(canvas);\n",
    "            }\n",
    "        };\n",
    "        \n",
    "        reader.readAsDataURL(input.files[0]);\n",
    "    }\n",
    "});\n"
   ]
  },
  {
   "cell_type": "markdown",
   "metadata": {},
   "source": [
    "# Dark Mode/Light Mode\n",
    "The dark mode/light mode feature in applications and websites offers users the ability to switch between two distinct themes: a light theme with brighter colors and backgrounds, and a dark theme with darker hues, enhancing user comfort and visual appeal. This feature is particularly beneficial for reducing eye strain in varying lighting conditions, and it's energy-efficient on devices with OLED or AMOLED screens, as darker colors consume less power. It also caters to personal preferences and accessibility needs, allowing for a more personalized and comfortable viewing experience. Implementing this feature involves designing two cohesive color schemes for all UI elements and, in many cases, enabling automatic switching based on system settings or time of day, thereby significantly enhancing the overall user experience and inclusivity of the application or website."
   ]
  },
  {
   "cell_type": "code",
   "execution_count": null,
   "metadata": {
    "vscode": {
     "languageId": "html"
    }
   },
   "outputs": [],
   "source": [
    "<!DOCTYPE html>\n",
    "<html>\n",
    "<head>\n",
    "    <title>Dark Mode/Light Mode Example</title>\n",
    "    <link rel=\"stylesheet\" href=\"styles.css\">\n",
    "    <script src=\"script.js\"></script>\n",
    "</head>\n",
    "<body>\n",
    "    <div class=\"content\">\n",
    "        <h1>Welcome to My Website</h1>\n",
    "        <p>This is a sample paragraph.</p>\n",
    "        <button id=\"modeToggle\">Toggle Dark/Light Mode</button>\n",
    "    </div>\n",
    "</body>\n",
    "</html>"
   ]
  },
  {
   "cell_type": "code",
   "execution_count": null,
   "metadata": {
    "vscode": {
     "languageId": "html"
    }
   },
   "outputs": [],
   "source": [
    ":root {\n",
    "    --background-color: #fff;\n",
    "    --text-color: #000;\n",
    "}\n",
    "\n",
    "body.dark-mode {\n",
    "    --background-color: #000;\n",
    "    --text-color: #fff;\n",
    "}\n",
    "\n",
    "body {\n",
    "    background-color: var(--background-color);\n",
    "    color: var(--text-color);\n",
    "    transition: background-color 0.3s, color 0.3s;\n",
    "}\n",
    "\n",
    "/* Additional styling */"
   ]
  },
  {
   "cell_type": "code",
   "execution_count": null,
   "metadata": {
    "vscode": {
     "languageId": "javascript"
    }
   },
   "outputs": [],
   "source": [
    "document.getElementById('modeToggle').addEventListener('click', function() {\n",
    "    document.body.classList.toggle('dark-mode');\n",
    "});"
   ]
  },
  {
   "cell_type": "markdown",
   "metadata": {},
   "source": [
    "# Binary Puzzle\n",
    "A binary puzzle feature in an application is an engaging and educational element that leverages the intriguing aspects of the binary number system. It typically presents a grid-based puzzle, with varying sizes like 6x6 or 10x10, where players fill in cells with zeros and ones following specific rules: equal numbers of zeros and ones in each row and column, no more than two similar numbers adjacent, and each row and column having a unique sequence. This setup not only challenges players with logical thinking and pattern recognition but also serves as a playful introduction to binary concepts. Enhanced with interactive elements such as hints, undo/redo options, and a timer or move counter, it offers an enriching experience that sharpens problem-solving skills and cognitive abilities, making it a valuable addition to both educational apps and puzzle games for those interested in mathematics, computer science, or just a good brain teaser."
   ]
  },
  {
   "cell_type": "code",
   "execution_count": null,
   "metadata": {
    "vscode": {
     "languageId": "html"
    }
   },
   "outputs": [],
   "source": [
    "<!DOCTYPE html>\n",
    "<html lang=\"en\">\n",
    "<head>\n",
    "    <meta charset=\"UTF-8\">\n",
    "    <meta name=\"viewport\" content=\"width=device-width, initial-scale=1.0\">\n",
    "    <title>Binary Puzzle</title>\n",
    "    <link rel=\"stylesheet\" href=\"style.css\">\n",
    "</head>\n",
    "<body>\n",
    "    <div id=\"gameContainer\">\n",
    "        <div id=\"grid\"></div>\n",
    "        <button id=\"checkButton\">Check Puzzle</button>\n",
    "        <div id=\"message\"></div>\n",
    "    </div>\n",
    "    <script src=\"script.js\"></script>\n",
    "</body>\n",
    "</html>\n"
   ]
  },
  {
   "cell_type": "code",
   "execution_count": null,
   "metadata": {
    "vscode": {
     "languageId": "html"
    }
   },
   "outputs": [],
   "source": [
    "/* style.css */\n",
    "body {\n",
    "    font-family: Arial, sans-serif;\n",
    "    display: flex;\n",
    "    justify-content: center;\n",
    "    align-items: center;\n",
    "    height: 100vh;\n",
    "    margin: 0;\n",
    "}\n",
    "\n",
    "#gameContainer {\n",
    "    text-align: center;\n",
    "}\n",
    "\n",
    "#grid {\n",
    "    display: grid;\n",
    "    grid-template-columns: repeat(6, 50px); /* Adjust based on grid size */\n",
    "    grid-gap: 5px;\n",
    "    margin-bottom: 20px;\n",
    "}\n",
    "\n",
    ".cell {\n",
    "    width: 50px;\n",
    "    height: 50px;\n",
    "    border: 1px solid #333;\n",
    "    display: flex;\n",
    "    justify-content: center;\n",
    "    align-items: center;\n",
    "    font-size: 24px;\n",
    "    cursor: pointer;\n",
    "    user-select: none;\n",
    "}\n",
    "\n",
    "#message {\n",
    "    margin-top: 20px;\n",
    "    font-size: 20px;\n",
    "}\n"
   ]
  },
  {
   "cell_type": "code",
   "execution_count": null,
   "metadata": {
    "vscode": {
     "languageId": "javascript"
    }
   },
   "outputs": [],
   "source": [
    "// script.js\n",
    "document.addEventListener('DOMContentLoaded', () => {\n",
    "    const grid = document.getElementById('grid');\n",
    "    const checkButton = document.getElementById('checkButton');\n",
    "    const message = document.getElementById('message');\n",
    "    const gridSize = 6; // 6x6 grid\n",
    "    let gameGrid = [];\n",
    "\n",
    "    // Initialize the grid\n",
    "    const initGrid = () => {\n",
    "        for (let i = 0; i < gridSize; i++) {\n",
    "            gameGrid[i] = [];\n",
    "            for (let j = 0; j < gridSize; j++) {\n",
    "                const cell = document.createElement('div');\n",
    "                cell.classList.add('cell');\n",
    "                cell.addEventListener('click', () => toggleCell(i, j));\n",
    "                grid.appendChild(cell);\n",
    "                gameGrid[i][j] = 0;\n",
    "            }\n",
    "        }\n",
    "    };\n",
    "\n",
    "    // Toggle cell between 0, 1 and empty\n",
    "    const toggleCell = (i, j) => {\n",
    "        gameGrid[i][j] = (gameGrid[i][j] + 1) % 3;\n",
    "        updateGrid();\n",
    "    };\n",
    "\n",
    "    // Update grid display\n",
    "    const updateGrid = () => {\n",
    "        let cells = document.querySelectorAll('.cell');\n",
    "        cells.forEach((cell, index) => {\n",
    "            let row = Math.floor(index / gridSize);\n",
    "            let col = index % gridSize;\n",
    "            cell.textContent = gameGrid[row][col] === 0 ? '' : gameGrid[row][col];\n",
    "        });\n",
    "    };\n",
    "\n",
    "    // Check if the puzzle is solved correctly\n",
    "    const checkPuzzle = () => {\n",
    "        // Add your game logic here to check rows, columns, etc.\n",
    "        // For now, just display a message\n",
    "        message.textContent = 'Checking... (add logic to verify the puzzle)';\n",
    "    };\n",
    "\n",
    "    checkButton.addEventListener('click', checkPuzzle);\n",
    "\n",
    "    initGrid();\n",
    "    updateGrid();\n",
    "});\n"
   ]
  }
 ],
 "metadata": {
  "kernelspec": {
   "display_name": "Python 3",
   "language": "python",
   "name": "python3"
  },
  "language_info": {
   "codemirror_mode": {
    "name": "ipython",
    "version": 3
   },
   "file_extension": ".py",
   "mimetype": "text/x-python",
   "name": "python",
   "nbconvert_exporter": "python",
   "pygments_lexer": "ipython3",
   "version": "3.11.5"
  }
 },
 "nbformat": 4,
 "nbformat_minor": 2
}
