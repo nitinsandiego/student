{
 "cells": [
  {
   "cell_type": "markdown",
   "metadata": {},
   "source": [
    "---\n",
    "toc: true\n",
    "comments: true\n",
    "layout: post\n",
    "title: 3.5 and 3.6 Homework\n",
    "description: 3.5 and 3.6 Homework\n",
    "contributors: Nitin Balaji, Akshay Nagesh, Anvay Yadav, Srini Nampalli\n",
    "courses: { csp: {week: 7} }\n",
    "type: hacks\n",
    "---"
   ]
  },
  {
   "cell_type": "markdown",
   "metadata": {},
   "source": [
    "# Homework\n",
    "**Problem 1:** Write a Python program that uses boolean logic to determine if a user is eligible to vote. The criteria for eligibility is that the user must be a citizen and must be 18 or older. Include comments in your code to explain each part of the program.\n",
    "\n",
    "**Problem 2:** A company decided to give bonus of 5% to employee if his/her year of service is more than 5 years. Ask user for their salary and year of service and print the net bonus amount.\n",
    "\n",
    "**Problem 3:** A school has following rules for grading system:\n",
    "<br>\n",
    "a. Below 25 - F<br>\n",
    "b. 25 to 45 - E<br>\n",
    "c. 45 to 50 - D<br>\n",
    "d. 50 to 60 - C<br>\n",
    "e. 60 to 80 - B<br>\n",
    "f. Above 80 - A<br>\n",
    "Ask user to enter marks and print the corresponding grade."
   ]
  }
 ],
 "metadata": {
  "language_info": {
   "name": "python"
  },
  "orig_nbformat": 4
 },
 "nbformat": 4,
 "nbformat_minor": 2
}
