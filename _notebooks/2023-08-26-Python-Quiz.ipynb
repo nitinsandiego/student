{
 "cells": [
  {
   "cell_type": "markdown",
   "metadata": {},
   "source": [
    "---\n",
    "comments: true\n",
    "layout: post\n",
    "title: Python Quiz\n",
    "description: Test your knowledge on Python basics with my quiz.\n",
    "---"
   ]
  },
  {
   "cell_type": "markdown",
   "metadata": {},
   "source": [
    "# Python Basic Quiz\n",
    "This quiz will help you practice some basic Python skills and help you find skills you need to work on. "
   ]
  },
  {
   "cell_type": "code",
   "execution_count": 6,
   "metadata": {},
   "outputs": [
    {
     "name": "stdout",
     "output_type": "stream",
     "text": [
      "Hello, nitinb running /opt/homebrew/opt/python@3.11/bin/python3.11\n",
      "You will be asked 5 questions.\n",
      "Question: Are you ready to take a test?\n",
      "Answer: yes\n",
      "Question: The ______ method is used to get user input in Python\n",
      "input() is correct!\n",
      "Question: The elif keyword is short for ________.\n",
      "else if is correct!\n",
      "Question: The return statement is used to specify the ________ of a function.\n",
      "output is correct!\n",
      "Question: A collection of elements that is ordered and changeable is called a ________.\n",
      "list is correct!\n",
      "Question: The == operator is used to check if two values are ________.\n",
      "equal is correct!\n",
      "nitinb you scored 5/5\n"
     ]
    }
   ],
   "source": [
    "import getpass, sys\n",
    "\n",
    "def question_with_response(prompt):\n",
    "    print(\"Question: \" + prompt)\n",
    "    msg = input()\n",
    "    return msg\n",
    "\n",
    "def question_and_answer(prompt):\n",
    "    print(\"Question: \" + prompt)\n",
    "    msg = input()\n",
    "    print(\"Answer: \" + msg)\n",
    "\n",
    "def check_answer (rsp, answer):\n",
    "    if rsp == answer:\n",
    "        print(rsp + \" is correct!\")\n",
    "        return 1\n",
    "    else:\n",
    "        print(rsp + \" is incorrect!\")\n",
    "        return 0\n",
    "\n",
    "questions = 5\n",
    "correct = 0\n",
    "\n",
    "print('Hello, ' + getpass.getuser() + \" running \" + sys.executable)\n",
    "print(\"You will be asked \" + str(questions) + \" questions.\")\n",
    "question_and_answer(\"Are you ready to take a test?\")\n",
    "\n",
    "rsp = question_with_response(\"The ______ method is used to get user input in Python\")\n",
    "correct = correct + check_answer(rsp, \"input()\")\n",
    "\n",
    "rsp = question_with_response(\"The elif keyword is short for ________.\")\n",
    "correct = correct + check_answer(rsp, \"else if\")\n",
    "\n",
    "rsp = question_with_response(\"The return statement is used to specify the ________ of a function.\")\n",
    "correct = correct + check_answer(rsp, \"output\")\n",
    "\n",
    "rsp = question_with_response(\"A collection of elements that is ordered and changeable is called a ________.\")\n",
    "correct = correct+ check_answer(rsp, \"list\")\n",
    "\n",
    "rsp = question_with_response(\"The == operator is used to check if two values are ________.\")\n",
    "correct = correct + check_answer(rsp, \"equal\")\n",
    "\n",
    "print(getpass.getuser() + \" you scored \" + str(correct) +\"/\" + str(questions))"
   ]
  }
 ],
 "metadata": {
  "kernelspec": {
   "display_name": "Python 3",
   "language": "python",
   "name": "python3"
  },
  "language_info": {
   "codemirror_mode": {
    "name": "ipython",
    "version": 3
   },
   "file_extension": ".py",
   "mimetype": "text/x-python",
   "name": "python",
   "nbconvert_exporter": "python",
   "pygments_lexer": "ipython3",
   "version": "3.11.4"
  },
  "orig_nbformat": 4
 },
 "nbformat": 4,
 "nbformat_minor": 2
}
