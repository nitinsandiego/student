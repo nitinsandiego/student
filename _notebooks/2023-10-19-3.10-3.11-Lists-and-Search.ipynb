{
 "cells": [
  {
   "cell_type": "markdown",
   "metadata": {},
   "source": [
    "---\n",
    "toc: true\n",
    "comments: true\n",
    "layout: post\n",
    "title: 3.10 and 3.11 Homework\n",
    "description: 3.10 and 3.11 Homework\n",
    "courses: { csp: {week: 8} }\n",
    "type: hacks\n",
    "---"
   ]
  },
  {
   "cell_type": "markdown",
   "metadata": {},
   "source": [
    "# Problem 1\n",
    "```python\n",
    "# Creating a list of numbers\n",
    "numbers = [5, 3, 9, 1, 6, 8]  # A list of integers is created and assigned to the variable \"numbers\"\n",
    "\n",
    "# Printing the original list\n",
    "print(f\"Original list: {numbers}\")  # This line outputs the original list of numbers\n",
    "\n",
    "# Accessing and printing the second element in the list (Indexing starts from 0)\n",
    "print(f\"Second element in the list: {numbers[1]}\")  # This line outputs the second element in the list\n",
    "\n",
    "# Modifying the third element in the list\n",
    "numbers[2] = 10  # The third element in the list (index 2) is changed to 10\n",
    "\n",
    "# Appending an element to the end of the list\n",
    "numbers.append(4)  # The append() method adds the value 4 to the end of the list\n",
    "\n",
    "# Removing an element from the list by value\n",
    "numbers.remove(1)  # The remove() method removes the first occurrence of the value 1 from the list\n",
    "\n",
    "# Sorting the list in ascending order\n",
    "numbers.sort()  # The sort() method arranges the numbers in the list in ascending order\n",
    "\n",
    "# Reversing the order of elements in the list\n",
    "numbers.reverse()  # The reverse() method reverses the order of elements in the list\n",
    "\n",
    "# Printing the modified list\n",
    "print(f\"Modified list: {numbers}\")  # This line outputs the modified list of numbers\n",
    "```\n",
    "\n",
    "# Problem 2\n",
    "```python\n",
    "import math\n",
    "\n",
    "def worst_case_binary_search_iterations(array_length):\n",
    "    iterations = math.ceil(math.log2(array_length))\n",
    "    return iterations\n",
    "array_length = 30\n",
    "print(worst_case_binary_search_iterations(array_length)) # Output the worst-case number of iterations\n",
    "\n",
    "```\n",
    "\n",
    "# Problem 3\n",
    "Answer is A"
   ]
  }
 ],
 "metadata": {
  "language_info": {
   "name": "python"
  }
 },
 "nbformat": 4,
 "nbformat_minor": 2
}
