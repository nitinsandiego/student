{
 "cells": [
  {
   "attachments": {},
   "cell_type": "markdown",
   "metadata": {},
   "source": [
    "---\n",
    "layout: post\n",
    "title: Linux Shell and Bash\n",
    "description: A Tech Talk on Linux and the Bash shell.\n",
    "toc: true\n",
    "comments: true\n",
    "categories: [5.A, C4.1]\n",
    "courses: { csse: {week: 1}, csp: {week: 1, categories: [6.B]}, csa: {week: 1} }\n",
    "type: hacks\n",
    "---"
   ]
  },
  {
   "attachments": {},
   "cell_type": "markdown",
   "metadata": {},
   "source": [
    "## Bash Tutorial\n",
    "> A brief overview of Bash, on your way to becoming a Linux expert.  <mark>When a computer boots up, a kernel (MacOS, Windows, Linux) is started</mark>.  This kernel provides a shell, or <mark>terminal</mark>, that allows user to interact with a most basic set of commands.  Typically, the casual user will not interact with the shell/terminal as a Desktop User Interface is started by the computer boot up process.  To activate a shell directly, users will run a \"terminal\" through the Desktop. <mark>VS Code provides ability to activate \"terminal\"</mark> while in the IDE."
   ]
  },
  {
   "attachments": {},
   "cell_type": "markdown",
   "metadata": {},
   "source": [
    "## Variable Prerequisites\n",
    "> Setup bash shell dependency variables for this page.  Variables are one of the first aspects of programming.  <mark>Variables have \"name\" and a \"value\"</mark>.\n",
    "\n",
    "- Hack Note: Change variables to match your student project."
   ]
  },
  {
   "cell_type": "markdown",
   "metadata": {},
   "source": [
    "### Define variable\n",
    "The following code cell <mark>defines 3 variables and assigns each a value</mark>.  There are some extra command, called a HERE document, that write these variables to a file.  This is so we can use these variables over and over below."
   ]
  },
  {
   "cell_type": "code",
   "execution_count": 1,
   "metadata": {
    "vscode": {
     "languageId": "shellscript"
    }
   },
   "outputs": [],
   "source": [
    "%%script bash\n",
    "\n",
    "# Dependency Variables, set to match your project directories\n",
    "\n",
    "cat <<EOF > /tmp/variables.sh\n",
    "export project_dir=$HOME/vscode  # change vscode to different name to test git clone\n",
    "export project=\\$project_dir/teacher  # change teacher to name of project from git clone\n",
    "export project_repo=\"https://github.com/nighthawkcoders/teacher.git\"  # change to project of choice\n",
    "EOF"
   ]
  },
  {
   "cell_type": "markdown",
   "metadata": {},
   "source": [
    "### Output the value of a variable\n",
    "The following code cell <mark>outputs the value of the variables</mark>, using the echo command.  For visual understanding in the output, each echo command provide a title before the $variable "
   ]
  },
  {
   "cell_type": "code",
   "execution_count": 2,
   "metadata": {
    "vscode": {
     "languageId": "shellscript"
    }
   },
   "outputs": [
    {
     "name": "stdout",
     "output_type": "stream",
     "text": [
      "Project dir: /Users/nitinb/vscode\n",
      "Project: /Users/nitinb/vscode/teacher\n",
      "Repo: https://github.com/nighthawkcoders/teacher.git\n"
     ]
    }
   ],
   "source": [
    "%%script bash\n",
    "\n",
    "# Extract saved variables\n",
    "source /tmp/variables.sh\n",
    "\n",
    "# Output shown title and value variables\n",
    "echo \"Project dir: $project_dir\"\n",
    "echo \"Project: $project\"\n",
    "echo \"Repo: $project_repo\""
   ]
  },
  {
   "cell_type": "markdown",
   "metadata": {},
   "source": [
    "## Project Setup and Analysis with Bash Scripts\n",
    "The bash scripts that follow automate what was done in the setup procedures.  The purpose of this is to show that many of the commands we performed can be added to a script, then performed automatically."
   ]
  },
  {
   "attachments": {},
   "cell_type": "markdown",
   "metadata": {},
   "source": [
    "### Pull Code\n",
    "> Pull code from GitHub to your machine. This is a <mark>bash script</mark>, a sequence of commands, that will create a project directory and add the \"project\" from GitHub to the vscode directory.  There is conditional logic to make sure that clone only happen if it does not (!) exist.   Here are some key elements in this code...\n",
    "\n",
    "- cd command (change directory), remember this from terminal session\n",
    "- if statements (conditional statement, called selection statement by College Board), code inside only happens if condition is met"
   ]
  },
  {
   "cell_type": "code",
   "execution_count": 3,
   "metadata": {
    "vscode": {
     "languageId": "shellscript"
    }
   },
   "outputs": [
    {
     "name": "stdout",
     "output_type": "stream",
     "text": [
      "Using conditional statement to create a project directory and project\n",
      "Directory /Users/nitinb/vscode exists.\n",
      "Directory /Users/nitinb/vscode/teacher exists.\n"
     ]
    }
   ],
   "source": [
    "%%script bash\n",
    "\n",
    "# Extract saved variables\n",
    "source /tmp/variables.sh\n",
    "\n",
    "echo \"Using conditional statement to create a project directory and project\"\n",
    "\n",
    "cd ~    # start in home directory\n",
    "\n",
    "# Conditional block to make a project directory\n",
    "if [ ! -d $project_dir ]\n",
    "then \n",
    "    echo \"Directory $project_dir does not exists... makinng directory $project_dir\"\n",
    "    mkdir -p $project_dir\n",
    "fi\n",
    "echo \"Directory $project_dir exists.\" \n",
    "\n",
    "# Conditional block to git clone a project from project_repo\n",
    "if [ ! -d $project ]\n",
    "then\n",
    "    echo \"Directory $project does not exists... cloning $project_repo\"\n",
    "    cd $project_dir\n",
    "    git clone $project_repo\n",
    "    cd ~\n",
    "fi\n",
    "echo \"Directory $project exists.\" "
   ]
  },
  {
   "attachments": {},
   "cell_type": "markdown",
   "metadata": {},
   "source": [
    "### Look at files Github project\n",
    "> All computers contain files and directories.  The clone brought more files from cloud to your machine.  Review the bash shell script, observe the commands that show and interact with files and directories.  These were used during setup.\n",
    "\n",
    "- \"ls\" lists computer files in Unix and Unix-like operating systems\n",
    "- \"cd\" offers way to navigate and change working directory\n",
    "- \"pwd\" print working directory\n",
    "- \"echo\" used to display line of text/string that are passed as an argument"
   ]
  },
  {
   "cell_type": "code",
   "execution_count": 4,
   "metadata": {
    "vscode": {
     "languageId": "shellscript"
    }
   },
   "outputs": [
    {
     "name": "stdout",
     "output_type": "stream",
     "text": [
      "Navigate to project, then navigate to area wwhere files were cloned\n",
      "/Users/nitinb/vscode/teacher\n",
      "\n",
      "list top level or root of files with project pulled from github\n",
      "Gemfile\n",
      "Gemfile.lock\n",
      "LICENSE\n",
      "Makefile\n",
      "README.md\n",
      "_config.yml\n",
      "\u001b[34m_data\u001b[m\u001b[m\n",
      "\u001b[34m_includes\u001b[m\u001b[m\n",
      "\u001b[34m_layouts\u001b[m\u001b[m\n",
      "\u001b[34m_notebooks\u001b[m\u001b[m\n",
      "\u001b[34m_posts\u001b[m\u001b[m\n",
      "\u001b[34m_site\u001b[m\u001b[m\n",
      "\u001b[34massets\u001b[m\u001b[m\n",
      "csa.md\n",
      "csp.md\n",
      "csse.md\n",
      "\u001b[34mimages\u001b[m\u001b[m\n",
      "index.md\n",
      "indexBlogs.md\n",
      "\u001b[34mscripts\u001b[m\u001b[m\n"
     ]
    }
   ],
   "source": [
    "%%script bash\n",
    "\n",
    "# Extract saved variables\n",
    "source /tmp/variables.sh\n",
    "\n",
    "echo \"Navigate to project, then navigate to area wwhere files were cloned\"\n",
    "cd $project\n",
    "pwd\n",
    "\n",
    "echo \"\"\n",
    "echo \"list top level or root of files with project pulled from github\"\n",
    "ls\n"
   ]
  },
  {
   "attachments": {},
   "cell_type": "markdown",
   "metadata": {},
   "source": [
    "### Look at file list with hidden and long attributes\n",
    "> Most linux commands have options to enhance behavior.  The enhanced listing below shows permission bits, owner of file, size and date.\n",
    "\n",
    "[ls reference](https://www.rapidtables.com/code/linux/ls.html)"
   ]
  },
  {
   "cell_type": "code",
   "execution_count": 5,
   "metadata": {
    "vscode": {
     "languageId": "shellscript"
    }
   },
   "outputs": [
    {
     "name": "stdout",
     "output_type": "stream",
     "text": [
      "Navigate to project, then navigate to area wwhere files were cloned\n",
      "/Users/nitinb/vscode/teacher\n",
      "\n",
      "list all files in long format\n",
      "total 120\n",
      "drwxr-xr-x  25 nitinb  staff   800 Sep 14 09:16 \u001b[34m.\u001b[m\u001b[m\n",
      "drwxr-xr-x   3 nitinb  staff    96 Aug 18 08:57 \u001b[34m..\u001b[m\u001b[m\n",
      "drwxr-xr-x  14 nitinb  staff   448 Sep 15 09:25 \u001b[34m.git\u001b[m\u001b[m\n",
      "drwxr-xr-x   3 nitinb  staff    96 Aug 18 08:57 \u001b[34m.github\u001b[m\u001b[m\n",
      "-rw-r--r--@  1 nitinb  staff   176 Sep  5 09:05 .gitignore\n",
      "-rw-r--r--   1 nitinb  staff   122 Aug 18 08:57 Gemfile\n",
      "-rw-r--r--@  1 nitinb  staff  7346 Aug 22 13:19 Gemfile.lock\n",
      "-rw-r--r--   1 nitinb  staff  1081 Aug 18 08:57 LICENSE\n",
      "-rw-r--r--@  1 nitinb  staff  3136 Sep  5 09:05 Makefile\n",
      "-rw-r--r--@  1 nitinb  staff  6853 Sep  5 09:05 README.md\n",
      "-rw-r--r--   1 nitinb  staff   607 Aug 18 08:57 _config.yml\n",
      "drwxr-xr-x   6 nitinb  staff   192 Aug 18 08:57 \u001b[34m_data\u001b[m\u001b[m\n",
      "drwxr-xr-x  13 nitinb  staff   416 Sep 14 09:16 \u001b[34m_includes\u001b[m\u001b[m\n",
      "drwxr-xr-x   6 nitinb  staff   192 Aug 18 08:57 \u001b[34m_layouts\u001b[m\u001b[m\n",
      "drwxr-xr-x  65 nitinb  staff  2080 Sep 15 09:25 \u001b[34m_notebooks\u001b[m\u001b[m\n",
      "drwxr-xr-x  56 nitinb  staff  1792 Sep 15 09:25 \u001b[34m_posts\u001b[m\u001b[m\n",
      "drwxr-xr-x@ 31 nitinb  staff   992 Aug 22 13:19 \u001b[34m_site\u001b[m\u001b[m\n",
      "drwxr-xr-x   4 nitinb  staff   128 Aug 18 08:57 \u001b[34massets\u001b[m\u001b[m\n",
      "-rw-r--r--   1 nitinb  staff    92 Aug 18 08:57 csa.md\n",
      "-rw-r--r--   1 nitinb  staff    98 Aug 18 08:57 csp.md\n",
      "-rw-r--r--   1 nitinb  staff   108 Aug 18 08:57 csse.md\n",
      "drwxr-xr-x  40 nitinb  staff  1280 Sep 14 09:16 \u001b[34mimages\u001b[m\u001b[m\n",
      "-rw-r--r--@  1 nitinb  staff  5162 Sep 14 09:16 index.md\n",
      "-rw-r--r--   1 nitinb  staff    53 Aug 18 08:57 indexBlogs.md\n",
      "drwxr-xr-x   9 nitinb  staff   288 Aug 22 13:19 \u001b[34mscripts\u001b[m\u001b[m\n"
     ]
    }
   ],
   "source": [
    "%%script bash\n",
    "\n",
    "# Extract saved variables\n",
    "source /tmp/variables.sh\n",
    "\n",
    "echo \"Navigate to project, then navigate to area wwhere files were cloned\"\n",
    "cd $project\n",
    "pwd\n",
    "\n",
    "echo \"\"\n",
    "echo \"list all files in long format\"\n",
    "ls -al   # all files -a (hidden) in -l long listing"
   ]
  },
  {
   "cell_type": "code",
   "execution_count": 6,
   "metadata": {
    "vscode": {
     "languageId": "shellscript"
    }
   },
   "outputs": [
    {
     "name": "stdout",
     "output_type": "stream",
     "text": [
      "Look for posts\n",
      "/Users/nitinb/vscode/teacher/_posts\n",
      "total 1224\n",
      "-rw-r--r--@ 1 nitinb  staff   9664 Aug 22 13:19 2023-08-01-cloud_database_IPYNB_2_.md\n",
      "-rw-r--r--@ 1 nitinb  staff   5855 Aug 22 13:19 2023-08-01-mario_player_IPYNB_2_.md\n",
      "-rw-r--r--@ 1 nitinb  staff  35434 Aug 22 13:19 2023-08-02-cloud-workspace-automation_IPYNB_2_.md\n",
      "-rw-r--r--@ 1 nitinb  staff  15640 Aug 22 13:19 2023-08-03-mario_block_IPYNB_2_.md\n",
      "-rw-r--r--@ 1 nitinb  staff   7759 Aug 22 13:19 2023-08-03-mario_platform_IPYNB_2_.md\n",
      "-rw-r--r--@ 1 nitinb  staff  13735 Aug 22 13:19 2023-08-03-mario_tube_IPYNB_2_.md\n",
      "-rw-r--r--@ 1 nitinb  staff  17295 Aug 22 13:19 2023-08-04-mario_background_IPYNB_2_.md\n",
      "-rw-r--r--@ 1 nitinb  staff   2740 Aug 22 13:19 2023-08-07-mario_lesson_IPYNB_2_.md\n",
      "-rw-r--r--@ 1 nitinb  staff   7708 Aug 22 13:19 2023-08-15-java-hello_IPYNB_2_.md\n",
      "-rw-r--r--  1 nitinb  staff   7685 Aug 18 08:57 2023-08-16-Tools_Equipment.md\n",
      "-rw-r--r--@ 1 nitinb  staff  19805 Aug 22 13:19 2023-08-16-github_pages_setup_IPYNB_2_.md\n",
      "-rw-r--r--@ 1 nitinb  staff  10476 Aug 22 13:20 2023-08-16-linux_shell_IPYNB_2_.md\n",
      "-rw-r--r--  1 nitinb  staff   4650 Aug 18 08:57 2023-08-16-pair_programming.md\n",
      "-rw-r--r--@ 1 nitinb  staff   8691 Aug 22 13:19 2023-08-16-python_hello_IPYNB_2_.md\n",
      "-rw-r--r--@ 1 nitinb  staff   7139 Sep  5 09:05 2023-08-17-markdown-html_fragments.md\n",
      "-rw-r--r--@ 1 nitinb  staff   4687 Sep  5 09:05 2023-08-21-python_flask.md\n",
      "-rw-r--r--@ 1 nitinb  staff   7438 Aug 22 13:19 2023-08-23-github_pages_anatomy_IPYNB_2_.md\n",
      "-rw-r--r--@ 1 nitinb  staff  17955 Aug 22 13:19 2023-08-23-java-console_games_IPYNB_2_.md\n",
      "-rw-r--r--@ 1 nitinb  staff   6670 Sep  5 09:05 2023-08-23-javascript-calculator.md\n",
      "-rw-r--r--@ 1 nitinb  staff   5993 Aug 22 13:19 2023-08-23-python_tricks_IPYNB_2_.md\n",
      "-rw-r--r--@ 1 nitinb  staff  11341 Sep 14 09:16 2023-08-30-agile_methodolgy.md\n",
      "-rw-r--r--@ 1 nitinb  staff   4397 Sep 14 09:16 2023-08-30-javascript-music-api.md\n",
      "-rw-r--r--@ 1 nitinb  staff   8420 Aug 22 13:19 2023-08-30-javascript_top_10_IPYNB_2_.md\n",
      "-rw-r--r--@ 1 nitinb  staff   8735 Aug 22 13:19 2023-08-30-showcase-S1-pair_IPYNB_2_.md\n",
      "-rw-r--r--@ 1 nitinb  staff   5230 Aug 22 13:19 2023-09-05-python-flask-anatomy_IPYNB_2_.md\n",
      "-rw-r--r--@ 1 nitinb  staff  16463 Aug 22 13:19 2023-09-06-AWS-deployment_IPYNB_2_.md\n",
      "-rw-r--r--@ 1 nitinb  staff  10874 Aug 22 13:19 2023-09-06-java-primitives_IPYNB_2_.md\n",
      "-rw-r--r--@ 1 nitinb  staff   8163 Aug 22 13:19 2023-09-06-javascript-input_IPYNB_2_.md\n",
      "-rw-r--r--@ 1 nitinb  staff   5312 Sep  5 09:05 2023-09-06-javascript-motion-mario-oop.md\n",
      "-rw-r--r--@ 1 nitinb  staff    263 Sep 14 09:16 2023-09-10-users-db.md\n",
      "-rw-r--r--@ 1 nitinb  staff  10489 Aug 22 13:19 2023-09-12-java_menu_class_IPYNB_2_.md\n",
      "-rw-r--r--@ 1 nitinb  staff   1878 Sep 15 09:25 2023-09-12-javascript-calculator-reviews.md\n",
      "-rw-r--r--@ 1 nitinb  staff   3688 Sep  5 09:05 2023-09-12-python-flask-repo.md\n",
      "-rw-r--r--@ 1 nitinb  staff   2845 Sep 14 09:16 2023-09-12-unit-1-summary.md\n",
      "-rw-r--r--@ 1 nitinb  staff   6708 Aug 22 13:19 2023-09-13-java_fibonaccii_class_IPYNB_2_.md\n",
      "-rw-r--r--@ 1 nitinb  staff  24360 Aug 22 13:19 2023-09-13-javascript_output_IPYNB_2_.md\n",
      "-rw-r--r--@ 1 nitinb  staff  21670 Aug 22 13:19 2023-09-13-python-pandas_intro_IPYNB_2_.md\n",
      "-rw-r--r--@ 1 nitinb  staff   5256 Sep 14 09:16 2023-09-14-java-free_response.md\n",
      "-rw-r--r--@ 1 nitinb  staff   6173 Sep 14 09:16 2023-09-14-javascript-binary-U2-1.md\n",
      "-rw-r--r--@ 1 nitinb  staff    804 Sep 14 09:16 2023-09-15-java-free_response_showcase.md\n",
      "-rw-r--r--@ 1 nitinb  staff   8410 Aug 22 13:19 2023-09-20-java-image_2D_IPYNB_2_.md\n",
      "-rw-r--r--@ 1 nitinb  staff  19204 Aug 22 13:19 2023-09-20-javascript_motion_dog_IPYNB_2_.md\n",
      "-rw-r--r--@ 1 nitinb  staff    371 Sep 14 09:16 2023-09-28-java-spring-passion-idea.md\n",
      "-rw-r--r--@ 1 nitinb  staff    385 Sep 14 09:16 2023-09-28-java-spring_passion.md\n",
      "-rw-r--r--@ 1 nitinb  staff   2404 Sep 14 09:16 2023-09-28-java-student-teach-tri1.md\n",
      "-rw-r--r--@ 1 nitinb  staff   9963 Aug 22 13:19 2023-10-02-java-spring-anatomy_IPYNB_2_.md\n",
      "-rw-r--r--@ 1 nitinb  staff   9823 Aug 22 13:19 2023-10-09-java-chatgpt_IPYNB_2_.md\n",
      "-rw-r--r--@ 1 nitinb  staff  11058 Aug 22 13:19 2023-10-09-javascript_api_IPYNB_2_.md\n",
      "-rw-r--r--@ 1 nitinb  staff  21533 Aug 22 13:19 2023-10-09-python_machine_learing_fitness_IPYNB_2_.md\n",
      "-rw-r--r--@ 1 nitinb  staff  13219 Sep  5 09:05 2023-10-16-java-api-pojo-jpa.md\n",
      "-rw-r--r--  1 nitinb  staff   6819 Aug 18 08:57 2023-11-13-jwt-java-spring.md\n",
      "-rw-r--r--@ 1 nitinb  staff  12219 Aug 22 13:19 2023-11-13-jwt-python-flask_IPYNB_2_.md\n",
      "-rw-r--r--@ 1 nitinb  staff  12279 Aug 22 13:19 2023-11-13-vulnerabilities_IPYNB_2_.md\n",
      "-rw-r--r--@ 1 nitinb  staff   6686 Aug 22 13:19 2024-01-04-cockpit-setup_IPYNB_2_.md\n"
     ]
    }
   ],
   "source": [
    "%%script bash\n",
    "\n",
    "# Extract saved variables\n",
    "source /tmp/variables.sh\n",
    "\n",
    "echo \"Look for posts\"\n",
    "export posts=$project/_posts  # _posts inside project\n",
    "cd $posts  # this should exist per fastpages\n",
    "pwd  # present working directory\n",
    "ls -l  # list posts"
   ]
  },
  {
   "cell_type": "code",
   "execution_count": 7,
   "metadata": {
    "vscode": {
     "languageId": "shellscript"
    }
   },
   "outputs": [
    {
     "name": "stdout",
     "output_type": "stream",
     "text": [
      "Look for notebooks\n",
      "/Users/nitinb/vscode/teacher/_notebooks\n",
      "total 4040\n",
      "-rw-r--r--@ 1 nitinb  staff  992100 Sep  5 09:05 2023-07-15-machine_learning.ipynb\n",
      "-rw-r--r--@ 1 nitinb  staff   43705 Sep  5 09:05 2023-07-29-cloud-workspace-automation.ipynb\n",
      "-rw-r--r--@ 1 nitinb  staff    3584 Sep  5 09:05 2023-07-30-mario_overview.ipynb\n",
      "-rw-r--r--@ 1 nitinb  staff   10600 Sep  5 09:05 2023-08-01-mario_player.ipynb\n",
      "-rw-r--r--@ 1 nitinb  staff   14783 Sep  5 09:05 2023-08-02-mario_platform.ipynb\n",
      "-rw-r--r--@ 1 nitinb  staff   22612 Sep  5 09:05 2023-08-03-mario_tube.ipynb\n",
      "-rw-r--r--@ 1 nitinb  staff   25779 Sep  5 09:05 2023-08-04-mario_block.ipynb\n",
      "-rw-r--r--@ 1 nitinb  staff   26462 Sep  5 09:05 2023-08-05-mario_goomba.ipynb\n",
      "-rw-r--r--@ 1 nitinb  staff   30617 Sep  5 09:05 2023-08-06-mario_background.ipynb\n",
      "-rw-r--r--@ 1 nitinb  staff   10283 Sep  5 09:05 2023-08-15-java-hello.ipynb\n",
      "-rw-r--r--@ 1 nitinb  staff   26361 Sep  5 09:05 2023-08-16-github_pages_setup.ipynb\n",
      "-rw-r--r--@ 1 nitinb  staff   16156 Sep  7 09:14 2023-08-16-linux_shell.ipynb\n",
      "-rw-r--r--@ 1 nitinb  staff   11466 Sep  7 09:14 2023-08-16-python_hello.ipynb\n",
      "-rw-r--r--@ 1 nitinb  staff   11158 Sep  5 09:05 2023-08-23-github_pages_anatomy.ipynb\n",
      "-rw-r--r--@ 1 nitinb  staff   23636 Sep  5 09:05 2023-08-23-java-console_games.ipynb\n",
      "-rw-r--r--@ 1 nitinb  staff    9663 Sep  5 09:05 2023-08-23-python_tricks.ipynb\n",
      "-rw-r--r--@ 1 nitinb  staff    1091 Sep 14 09:16 2023-08-28-basics-home.ipynb\n",
      "-rw-r--r--@ 1 nitinb  staff    4012 Sep 14 09:16 2023-08-28-basics-html.ipynb\n",
      "-rw-r--r--@ 1 nitinb  staff   11924 Sep 14 09:16 2023-08-29-basics-of-js.ipynb\n",
      "-rw-r--r--@ 1 nitinb  staff   18177 Sep 15 09:25 2023-08-30-basics-js-data-types.ipynb\n",
      "-rw-r--r--@ 1 nitinb  staff   16262 Sep 15 09:25 2023-08-30-basics-js-with-html.ipynb\n",
      "-rw-r--r--@ 1 nitinb  staff    3214 Sep  5 09:05 2023-08-30-javascript_grab.ipynb\n",
      "-rw-r--r--  1 nitinb  staff    9689 Aug 18 08:57 2023-08-30-showcase-S1-pair.ipynb\n",
      "-rw-r--r--@ 1 nitinb  staff   15223 Sep 14 09:16 2023-09-06-java-primitives.ipynb\n",
      "-rw-r--r--@ 1 nitinb  staff   12695 Sep 14 09:16 2023-09-06-javascript-input.ipynb\n",
      "-rw-r--r--@ 1 nitinb  staff   14906 Sep  7 09:14 2023-09-06-javascript-output-jquery.ipynb\n",
      "-rw-r--r--@ 1 nitinb  staff   10023 Sep 15 09:25 2023-09-06-python-flask_in_jupyter.ipynb\n",
      "-rw-r--r--@ 1 nitinb  staff   13709 Sep 14 09:16 2023-09-12-java_menu_class.ipynb\n",
      "-rw-r--r--@ 1 nitinb  staff    7174 Sep  5 09:05 2023-09-12-python-flask-anatomy.ipynb\n",
      "-rw-r--r--@ 1 nitinb  staff   13183 Sep 14 09:16 2023-09-12-python_lists.ipynb\n",
      "-rw-r--r--@ 1 nitinb  staff    9841 Sep 14 09:16 2023-09-13-java_fibonaccii_class.ipynb\n",
      "-rw-r--r--@ 1 nitinb  staff   25234 Sep 14 09:16 2023-09-13-javascript_output_objects.ipynb\n",
      "-rw-r--r--  1 nitinb  staff   43423 Aug 18 08:57 2023-09-13-python-pandas_intro.ipynb\n",
      "-rw-r--r--@ 1 nitinb  staff    9366 Sep 15 09:30 2023-09-15-1_4-python-errors.ipynb\n",
      "-rw-r--r--@ 1 nitinb  staff   22317 Sep 14 09:16 2023-09-17-python-images-U2-2.ipynb\n",
      "-rw-r--r--@ 1 nitinb  staff   34768 Sep 14 09:16 2023-09-18-python-pandas-U2-3.ipynb\n",
      "-rw-r--r--@ 1 nitinb  staff   49090 Sep 14 09:16 2023-09-19-python-sql-U2-4a.ipynb\n",
      "-rw-r--r--@ 1 nitinb  staff   11550 Sep 14 09:16 2023-09-19-python-sql-U2-4b.ipynb\n",
      "-rw-r--r--@ 1 nitinb  staff   11584 Sep 14 09:16 2023-09-20-java-image_2D.ipynb\n",
      "-rw-r--r--@ 1 nitinb  staff    4616 Sep 14 09:16 2023-09-20-spritesheet_animation.ipynb\n",
      "-rw-r--r--@ 1 nitinb  staff   24663 Sep 14 09:16 2023-09-21-javascript_motion_dog.ipynb\n",
      "-rw-r--r--@ 1 nitinb  staff   22157 Sep 14 09:16 2023-09-27-aws-deployment.ipynb\n",
      "-rw-r--r--@ 1 nitinb  staff   13599 Sep  5 09:05 2023-10-02-java-spring-anatomy.ipynb\n",
      "-rw-r--r--@ 1 nitinb  staff   12429 Sep 14 09:16 2023-10-09-java-chatgpt.ipynb\n",
      "-rw-r--r--  1 nitinb  staff   15632 Aug 18 08:57 2023-10-09-javascript_api.ipynb\n",
      "-rw-r--r--  1 nitinb  staff  113091 Aug 18 08:57 2023-10-09-python_machine_learing_fitness.ipynb\n",
      "-rw-r--r--@ 1 nitinb  staff     562 Sep 14 09:16 2023-10-16-java-u1-student.ipynb\n",
      "-rw-r--r--@ 1 nitinb  staff     542 Sep 14 09:16 2023-10-16-java-u2-student.ipynb\n",
      "-rw-r--r--@ 1 nitinb  staff     729 Sep 14 09:16 2023-10-16-java-u3-student.ipynb\n",
      "-rw-r--r--@ 1 nitinb  staff     543 Sep 14 09:16 2023-10-16-java-u4-student.ipynb\n",
      "-rw-r--r--@ 1 nitinb  staff     543 Sep 14 09:16 2023-10-16-java-u5-student.ipynb\n",
      "-rw-r--r--@ 1 nitinb  staff     544 Sep 14 09:16 2023-10-16-java-u6-student.ipynb\n",
      "-rw-r--r--@ 1 nitinb  staff     542 Sep 14 09:16 2023-10-16-java-u7-student.ipynb\n",
      "-rw-r--r--@ 1 nitinb  staff     567 Sep 14 09:16 2023-10-16-java-u8-student.ipynb\n",
      "-rw-r--r--@ 1 nitinb  staff     541 Sep 14 09:16 2023-10-16-java-u9-student.ipynb\n",
      "-rw-r--r--@ 1 nitinb  staff   20077 Sep  5 09:05 2023-10-16-java_jpa.ipynb\n",
      "-rw-r--r--@ 1 nitinb  staff     564 Sep 14 09:16 2023-10-17-java-u10-student.ipynb\n",
      "-rw-r--r--  1 nitinb  staff   16271 Aug 18 08:57 2023-11-13-jwt-python-flask.ipynb\n",
      "-rw-r--r--  1 nitinb  staff   15951 Aug 18 08:57 2023-11-13-vulnerabilities.ipynb\n",
      "-rw-r--r--  1 nitinb  staff   18328 Aug 18 08:57 2023-11-20-jwt-java-spring-challenge.md\n",
      "-rw-r--r--  1 nitinb  staff   10745 Aug 18 08:57 2024-01-04-cockpit-setup.ipynb\n",
      "drwxr-xr-x  3 nitinb  staff      96 Aug 18 08:57 \u001b[34mfiles\u001b[m\u001b[m\n"
     ]
    }
   ],
   "source": [
    "%%script bash\n",
    "\n",
    "# Extract saved variables\n",
    "source /tmp/variables.sh\n",
    "\n",
    "echo \"Look for notebooks\"\n",
    "export notebooks=$project/_notebooks  # _notebooks is inside project\n",
    "cd $notebooks   # this should exist per fastpages\n",
    "pwd  # present working directory\n",
    "ls -l  # list notebooks"
   ]
  },
  {
   "cell_type": "code",
   "execution_count": 8,
   "metadata": {
    "vscode": {
     "languageId": "shellscript"
    }
   },
   "outputs": [
    {
     "name": "stdout",
     "output_type": "stream",
     "text": [
      "Look for images in notebooks, print working directory, list files\n",
      "/Users/nitinb/coding/vscode/student/_notebooks\n"
     ]
    },
    {
     "name": "stderr",
     "output_type": "stream",
     "text": [
      "bash: line 6: cd: /images: No such file or directory\n"
     ]
    },
    {
     "name": "stdout",
     "output_type": "stream",
     "text": [
      "total 128\n",
      "-rw-r--r--@ 1 nitinb  staff  46019 Sep 15 09:40 2023-08-16-linux_shell.ipynb\n",
      "-rw-r--r--@ 1 nitinb  staff   5638 Sep 15 09:24 2023-08-17-AP-pseudo-vs-python.ipynb\n",
      "-rw-r--r--@ 1 nitinb  staff   2771 Sep 15 09:24 2023-09-01-Newspaper.ipynb\n",
      "-rw-r--r--@ 1 nitinb  staff   2818 Sep 15 09:24 2023-09-01-Wikipedia-Search-With-Python.ipynb\n"
     ]
    }
   ],
   "source": [
    "%%script bash\n",
    "\n",
    "# Extract saved variables\n",
    "source /tmp/variables.sh\n",
    "\n",
    "echo \"Look for images in notebooks, print working directory, list files\"\n",
    "cd $notebooks/images  # this should exist per fastpages\n",
    "pwd\n",
    "ls -l"
   ]
  },
  {
   "attachments": {},
   "cell_type": "markdown",
   "metadata": {},
   "source": [
    "### Look inside a Markdown File\n",
    "> \"cat\" reads data from the file and gives its content as output"
   ]
  },
  {
   "cell_type": "code",
   "execution_count": 9,
   "metadata": {
    "vscode": {
     "languageId": "shellscript"
    }
   },
   "outputs": [
    {
     "name": "stdout",
     "output_type": "stream",
     "text": [
      "Navigate to project, then navigate to area wwhere files were cloned\n",
      "show the contents of README.md\n",
      "\n",
      "## Teacher Blog site\n",
      "This site is intended for the development of Teacher content.  This blogging site is built using GitHub Pages [GitHub Pages](https://docs.github.com/en/pages/getting-started-with-github-pages/creating-a-github-pages-site).\n",
      "- The purpose is to build lessons and distribute across different Computer Science sections (CSSE, CSP, CSA), a pathway that covers 3 years of High School instruction.\n",
      "- The primary languages and frameworks that are taught are `JavaScript/HTML/CSS`, `Python/Flask`, `Java/Spring`.  Read below for more details.\n",
      "- In this course, Teacher content is not exclusively developed by Teachers.  In fact, many Students have been invited to develop and publish content into this repository.  Their names will appear as authors on the content which they aided in producing.\n",
      "- This site has incorporated ideas and has radically modified scripts from the now deprecated [fastpages](https://github.com/fastai/fastpages) repository.\n",
      "- This site includes assistance and guideance from ChatGPT, [chat.openai.com](https://chat.openai.com/) \n",
      "\n",
      "### Courses and Pathway\n",
      "The focus of the Del Norte Computer Science three-year pathway is `Full Stack Web Development`.  This focus provides a variety of technologies and exposures.  The intention of the pathway is breadth and exposure.\n",
      "- `JavaScript` documents are focused on frontend development and for entry class into the Del Norte Computer Science pathway.  JavaScript documents and materials are a prerequisites to Python and Java classes.\n",
      "- `Python` documents are focused on backend development and requirements for the AP Computer Science Principles exam.\n",
      "- `Java` documents are focused on backend development and requirements for the AP Computer Sciene A exam.\n",
      "- `Data Structures` materials embedded into JavaScript, Python, or Java documents are focused on college course articulation.\n",
      "\n",
      "### Resources and Instruction\n",
      "The materials, such as this README, as well as `Tools`, `DevOps`, and `Collaboration` resources are integral part of this course and Computer Science in general.  Everything in our environment is part of our learning of Computer Science. \n",
      "- `Visual Studio Code` is key the code-build-debug cycle editor used in this course, [VSCode download](https://code.visualstudio.com/).  This is an example of a resource, but inside of it it has features for collaboration.\n",
      "- `Tech Talks`, aka lectures, are intended to be interactive and utilize `Jupyter Notebooks` and Websites.  This is an example of blending instruction and tools together, which in turn provide additional resources for learning.  For instance, deep knowledge on  GitHub Pages and Notebooks are valuable in understanding principles behind Full Stack Development and Data Science. \n",
      "\n",
      "## GitHub Pages\n",
      "All `GitHub Pages` websites are managed on GitHub infrastructure. GitHub uses `Jekyll` to tranform your content into static websites and blogs. Each time we change files in GitHub it initiates a GitHub Action that rebuilds and publishes the site with Jekyll.  \n",
      "- GitHub Pages is powered by: [Jekyll](https://jekyllrb.com/).\n",
      "- Publised teacher website: [nighthawkcoders.github.io/teacher](https://nighthawkcoders.github.io/teacher/)\n",
      "\n",
      "## Preparing a Preview Site \n",
      "In all development, it is recommended to test your code before deployment.  The GitHub Pages development process is optimized by testing your development on your local machine, prior to files on GitHub\n",
      "\n",
      "Development Cycle. For GitHub pages, the tooling described below will create a development cycle  `make-code-save-preview`.  In the development cycle, it is a requirement to preview work locally, prior to doing a VSCode `commit` to git.\n",
      "\n",
      "Deployment Cycle.  In the deplopyment cycle, `sync-github-action-review`, it is a requirement to complete the development cycle prior to doing a VSCode `sync`.  The sync triggers github repository update.  The action starts the jekyll build to publish the website.  Any step can have errors and will require you to do a review.\n",
      "\n",
      "### WSL and/or Ubuntu installation requirements\n",
      "- The result of these step is Ubuntu tools to run preview server.  These procedures were created using [jekyllrb.com](https://jekyllrb.com/docs/installation/ubuntu/)\n",
      "```bash\n",
      "# \n",
      "# WSL/Ubuntu setup\n",
      "#\n",
      "mkdir mkdir vscode\n",
      "git clone https://github.com/nighthawkcoders/teacher.git\n",
      "# run script, path vscode/teacher are baked in script\n",
      "~/vscode/teacher/scripts/activate_ubuntu.sh\n",
      "#=== !!!Start a new Terminal!!! ===\n",
      "#=== Continue to next section ===\n",
      "```\n",
      "\n",
      "### MacOs installation requirements \n",
      "- Ihe result of these step are MacOS tools to run preview server.  These procedures were created using [jekyllrb.com](https://jekyllrb.com/docs/installation/macos/). \n",
      "\n",
      "```bash\n",
      "# \n",
      "# MacOS setup\n",
      "#\n",
      "mkdir mkdir vscode\n",
      "git clone https://github.com/nighthawkcoders/teacher.git\n",
      "# run script, path vscode/teacher are baked in script\n",
      "~/vscode/teacher/scripts/activate_macos.sh\n",
      "#=== !!!Start a new Terminal!!! ===\n",
      "#=== Continue to next section ===\n",
      "```\n",
      "\n",
      "\n",
      "### Run Preview Server\n",
      "- The result of these step is server running on: http://0.0.0.0:4100/teacher/.  Regeneration messages will run in terminal on any save and update site upon refresh.  Terminal is active, press the Enter or Return key in the terminal at any time to see prompt to enter commands.\n",
      "\n",
      "- Complete installation\n",
      "```bash\n",
      "cd ~/vscode/teacher\n",
      "bundle install\n",
      "make\n",
      "```\n",
      "- Run Server.  This requires running terminal commands `make`, `make stop`, `make clean`, or `make convert` to manage the running server.  Logging of details will appear in terminal.   A `Makefile` has been created in project to support commands and start processes.\n",
      "\n",
      "    - Start preview server in terminal\n",
      "    ```bash\n",
      "    cd ~/vscode/teacher  # my project location, adapt as necessary\n",
      "    make\n",
      "    ```\n",
      "\n",
      "    - Terminal output of shows server address. Cmd or Ctl click http location to open preview server in browser. Example Server address message... \n",
      "    ```\n",
      "    Server address: http://0.0.0.0:4100/teacher/\n",
      "    ```\n",
      "\n",
      "    - Save on ipynb or md activiates \"regeneration\". Refresh browser to see updates. Example terminal message...\n",
      "    ```\n",
      "    Regenerating: 1 file(s) changed at 2023-07-31 06:54:32\n",
      "        _notebooks/2024-01-04-cockpit-setup.ipynb\n",
      "    ```\n",
      "\n",
      "    - Terminal message are generated from background processes.  Click return or enter to obtain prompt and use terminal as needed for other tasks.  Alway return to root of project `cd ~/vscode/teacher` for all \"make\" actions. \n",
      "        \n",
      "\n",
      "    - Stop preview server, but leave constructed files in project for your review.\n",
      "    ```bash\n",
      "    make stop\n",
      "    ```\n",
      "\n",
      "    - Stop server and \"clean\" constructed files, best choice when renaming files to eliminate potential duplicates in constructed files.\n",
      "    ```bash\n",
      "    make clean\n",
      "    ```\n",
      "\n",
      "    - Test notebook conversions, best choice to see if IPYNB conversion is acting up.\n",
      "    ```bash\n",
      "    make convert\n",
      "    ```\n",
      "    \n",
      "end of README.md\n"
     ]
    }
   ],
   "source": [
    "%%script bash\n",
    "\n",
    "# Extract saved variables\n",
    "source /tmp/variables.sh\n",
    "\n",
    "echo \"Navigate to project, then navigate to area wwhere files were cloned\"\n",
    "\n",
    "cd $project\n",
    "echo \"show the contents of README.md\"\n",
    "echo \"\"\n",
    "\n",
    "cat README.md  # show contents of file, in this case markdown\n",
    "echo \"\"\n",
    "echo \"end of README.md\"\n"
   ]
  },
  {
   "attachments": {},
   "cell_type": "markdown",
   "metadata": {},
   "source": [
    "## Env, Git and GitHub\n",
    "> Env(ironment) is used to capture things like path to Code or Home directory.  Git and GitHub is NOT Only used to exchange code between individuals, it is often used to exchange code through servers, in our case deployment for Website.   All tools we use have a behind the scenes relationships with the system they run on (MacOS, Windows, Linus) or a relationship with servers which they are connected to (ie GitHub).  There is an \"env\" command in bash.  There are environment files and setting files (.git/config) for Git.  They both use a key/value concept.\n",
    "\n",
    "- \"env\" show setting for your shell\n",
    "- \"git clone\" sets up a director of files\n",
    "- \"cd $project\" allows user to move inside that directory of files\n",
    "- \".git\" is a hidden directory that is used by git to establish relationship between machine and the git server on GitHub.  "
   ]
  },
  {
   "cell_type": "code",
   "execution_count": 10,
   "metadata": {
    "vscode": {
     "languageId": "shellscript"
    }
   },
   "outputs": [
    {
     "name": "stdout",
     "output_type": "stream",
     "text": [
      "Show the shell environment variables, key on left of equal value on right\n",
      "\n",
      "MANPATH=/Library/Developer/CommandLineTools/SDKs/MacOSX.sdk/usr/share/man:/Library/Developer/CommandLineTools/usr/share/man:/Library/Developer/CommandLineTools/Toolchains/XcodeDefault.xctoolchain/usr/share/man:/opt/homebrew/share/man::\n",
      "VSCODE_CRASH_REPORTER_PROCESS_TYPE=extensionHost\n",
      "GEM_HOME=/Users/nitinb/gems\n",
      "TERM=xterm-color\n",
      "SHELL=/bin/zsh\n",
      "CLICOLOR=1\n",
      "TMPDIR=/var/folders/k_/h41q5jf53hx_7vrdqf1csfgm0000gn/T/\n",
      "HOMEBREW_REPOSITORY=/opt/homebrew\n",
      "LIBRARY_PATH=/usr/local/lib\n",
      "CONDA_SHLVL=1\n",
      "PYTHONUNBUFFERED=1\n",
      "CONDA_PROMPT_MODIFIER=(base) \n",
      "SDKROOT=/Library/Developer/CommandLineTools/SDKs/MacOSX.sdk\n",
      "ORIGINAL_XDG_CURRENT_DESKTOP=undefined\n",
      "MallocNanoZone=0\n",
      "PYDEVD_USE_FRAME_EVAL=NO\n",
      "PYTHONIOENCODING=utf-8\n",
      "USER=nitinb\n",
      "COMMAND_MODE=unix2003\n",
      "CONDA_EXE=/Users/nitinb/anaconda3/bin/conda\n",
      "CPATH=/usr/local/include\n",
      "SSH_AUTH_SOCK=/private/tmp/com.apple.launchd.BuitO8S8zb/Listeners\n",
      "__CF_USER_TEXT_ENCODING=0x1F5:0x0:0x0\n",
      "PAGER=cat\n",
      "ELECTRON_RUN_AS_NODE=1\n",
      "VSCODE_AMD_ENTRYPOINT=vs/workbench/api/node/extensionHostProcess\n",
      "PATH=/usr/bin:/Users/nitinb/Library/Python/3.9/bin:/Users/nitinb/gems/bin:/Users/nitinb/.rbenv/shims:/Users/nitinb/anaconda3/bin:/Users/nitinb/anaconda3/condabin:/Library/Frameworks/Python.framework/Versions/3.9/bin:/opt/homebrew/bin:/opt/homebrew/sbin:/usr/local/bin:/System/Cryptexes/App/usr/bin:/usr/bin:/bin:/usr/sbin:/sbin:/var/run/com.apple.security.cryptexd/codex.system/bootstrap/usr/local/bin:/var/run/com.apple.security.cryptexd/codex.system/bootstrap/usr/bin:/var/run/com.apple.security.cryptexd/codex.system/bootstrap/usr/appleinternal/bin:/Users/nitinb/gems/bin:/Users/nitinb/.rbenv/shims:/Users/nitinb/anaconda3/bin:/Users/nitinb/anaconda3/condabin:/Library/Frameworks/Python.framework/Versions/3.9/bin:/opt/homebrew/bin:/opt/homebrew/sbin:/usr/local/bin:/System/Cryptexes/App/usr/bin:/usr/bin:/bin:/usr/sbin:/sbin:/var/run/com.apple.security.cryptexd/codex.system/bootstrap/usr/local/bin:/var/run/com.apple.security.cryptexd/codex.system/bootstrap/usr/bin:/var/run/com.apple.security.cryptexd/codex.system/bootstrap/usr/appleinternal/bin\n",
      "__CFBundleIdentifier=com.microsoft.VSCode\n",
      "CONDA_PREFIX=/Users/nitinb/anaconda3\n",
      "PWD=/Users/nitinb/coding/vscode/student/_notebooks\n",
      "VSCODE_HANDLES_UNCAUGHT_ERRORS=true\n",
      "MPLBACKEND=module://matplotlib_inline.backend_inline\n",
      "XPC_FLAGS=0x0\n",
      "FORCE_COLOR=1\n",
      "RBENV_SHELL=zsh\n",
      "XPC_SERVICE_NAME=0\n",
      "SHLVL=1\n",
      "HOME=/Users/nitinb\n",
      "APPLICATION_INSIGHTS_NO_DIAGNOSTIC_CHANNEL=1\n",
      "VSCODE_NLS_CONFIG={\"locale\":\"en-us\",\"osLocale\":\"en-us\",\"availableLanguages\":{},\"_languagePackSupport\":true}\n",
      "PYDEVD_IPYTHON_COMPATIBLE_DEBUGGING=1\n",
      "HOMEBREW_PREFIX=/opt/homebrew\n",
      "LOGNAME=nitinb\n",
      "CONDA_PYTHON_EXE=/Users/nitinb/anaconda3/bin/python\n",
      "LC_CTYPE=UTF-8\n",
      "VSCODE_IPC_HOOK=/Users/nitinb/Library/Application Support/Code/1.82-main.sock\n",
      "VSCODE_CODE_CACHE_PATH=/Users/nitinb/Library/Application Support/Code/CachedData/6509174151d557a81c9d0b5f8a5a1e9274db5585\n",
      "CLICOLOR_FORCE=1\n",
      "CONDA_DEFAULT_ENV=base\n",
      "VSCODE_PID=11485\n",
      "INFOPATH=/opt/homebrew/share/info:\n",
      "HOMEBREW_CELLAR=/opt/homebrew/Cellar\n",
      "GIT_PAGER=cat\n",
      "VSCODE_L10N_BUNDLE_LOCATION=\n",
      "VSCODE_CWD=/\n",
      "_=/usr/bin/env\n"
     ]
    }
   ],
   "source": [
    "%%script bash\n",
    "\n",
    "# This command has no dependencies\n",
    "\n",
    "echo \"Show the shell environment variables, key on left of equal value on right\"\n",
    "echo \"\"\n",
    "\n",
    "env"
   ]
  },
  {
   "cell_type": "code",
   "execution_count": 11,
   "metadata": {
    "vscode": {
     "languageId": "shellscript"
    }
   },
   "outputs": [
    {
     "name": "stdout",
     "output_type": "stream",
     "text": [
      "\n",
      "show the secrets of .git\n",
      "total 88\n",
      "-rw-r--r--@  1 nitinb  staff    102 Sep 15 09:25 FETCH_HEAD\n",
      "-rw-r--r--   1 nitinb  staff     21 Aug 18 08:57 HEAD\n",
      "-rw-r--r--@  1 nitinb  staff     41 Sep 15 09:25 ORIG_HEAD\n",
      "-rw-r--r--   1 nitinb  staff    312 Aug 18 08:57 config\n",
      "-rw-r--r--   1 nitinb  staff     73 Aug 18 08:57 description\n",
      "drwxr-xr-x  15 nitinb  staff    480 Aug 18 08:57 \u001b[34mhooks\u001b[m\u001b[m\n",
      "-rw-r--r--@  1 nitinb  staff  17900 Sep 15 09:25 index\n",
      "drwxr-xr-x   3 nitinb  staff     96 Aug 18 08:57 \u001b[34minfo\u001b[m\u001b[m\n",
      "drwxr-xr-x   4 nitinb  staff    128 Aug 18 08:57 \u001b[34mlogs\u001b[m\u001b[m\n",
      "drwxr-xr-x  88 nitinb  staff   2816 Sep 15 09:25 \u001b[34mobjects\u001b[m\u001b[m\n",
      "-rw-r--r--   1 nitinb  staff    112 Aug 18 08:57 packed-refs\n",
      "drwxr-xr-x   5 nitinb  staff    160 Aug 18 08:57 \u001b[34mrefs\u001b[m\u001b[m\n",
      "\n",
      "look at config file\n",
      "[core]\n",
      "\trepositoryformatversion = 0\n",
      "\tfilemode = true\n",
      "\tbare = false\n",
      "\tlogallrefupdates = true\n",
      "\tignorecase = true\n",
      "\tprecomposeunicode = true\n",
      "[remote \"origin\"]\n",
      "\turl = https://github.com/nighthawkcoders/teacher.git\n",
      "\tfetch = +refs/heads/*:refs/remotes/origin/*\n",
      "[branch \"main\"]\n",
      "\tremote = origin\n",
      "\tmerge = refs/heads/main\n"
     ]
    }
   ],
   "source": [
    "%%script bash\n",
    "\n",
    "# Extract saved variables\n",
    "source /tmp/variables.sh\n",
    "\n",
    "cd $project\n",
    "\n",
    "echo \"\"\n",
    "echo \"show the secrets of .git\"\n",
    "cd .git\n",
    "ls -l\n",
    "\n",
    "echo \"\"\n",
    "echo \"look at config file\"\n",
    "cat config"
   ]
  },
  {
   "attachments": {},
   "cell_type": "markdown",
   "metadata": {},
   "source": [
    "## Advanced Student Request - Make a file in Bash\n",
    "> This example was requested by a student (Jun Lim, CSA). The request was to make jupyer file using bash, I adapted the request to markdown.  This type of thought will have great extrapolation to coding and possibilities of using List, Arrays, or APIs to build user interfaces.  JavaScript is a language where building HTML is very common.\n",
    "\n",
    "> To get more interesting output from terminal, this will require using something like mdless (https://github.com/ttscoff/mdless).  This enables see markdown in rendered format.\n",
    "- On Desktop [Install PKG from MacPorts](https://www.macports.org/install.php)\n",
    "- In Terminal on MacOS\n",
    "    - [Install ncurses](https://ports.macports.org/port/ncurses/)\n",
    "    - ```gem install mdless```\n",
    "    \n",
    "> Output of the example is much nicer in \"jupyter\""
   ]
  },
  {
   "cell_type": "code",
   "execution_count": 12,
   "metadata": {
    "vscode": {
     "languageId": "shellscript"
    }
   },
   "outputs": [
    {
     "name": "stdout",
     "output_type": "stream",
     "text": [
      "\n",
      "File listing and status\n",
      "-rw-r--r--@ 1 nitinb  wheel  809 Sep 15 09:45 sample.md\n",
      "      15     132     809 sample.md\n"
     ]
    },
    {
     "name": "stderr",
     "output_type": "stream",
     "text": [
      "bash: line 30: mdless: command not found\n"
     ]
    }
   ],
   "source": [
    "%%script bash\n",
    "\n",
    "# This example has error in VSCode, it run best on Jupyter\n",
    "cd /tmp\n",
    "\n",
    "file=\"sample.md\"\n",
    "if [ -f \"$file\" ]; then\n",
    "    rm $file\n",
    "fi\n",
    "\n",
    "tee -a $file >/dev/null <<EOF\n",
    "# Show Generated Markdown\n",
    "This introductory paragraph and this line and the title above are generated using tee with the standard input (<<) redirection operator.\n",
    "- This bulleted element is still part of the tee body.\n",
    "EOF\n",
    "\n",
    "echo \"- This bulleted element and lines below are generated using echo with standard output (>>) redirection operator.\" >> $file\n",
    "echo \"- The list definition, as is, is using space to seperate lines.  Thus the use of commas and hyphens in output.\" >> $file\n",
    "actions=(\"ls,list-directory\" \"cd,change-directory\" \"pwd,present-working-directory\" \"if-then-fi,test-condition\" \"env,bash-environment-variables\" \"cat,view-file-contents\" \"tee,write-to-output\" \"echo,display-content-of-string\" \"echo_text_>\\$file,write-content-to-file\" \"echo_text_>>\\$file,append-content-to-file\")\n",
    "for action in ${actions[@]}; do  # for loop is very similar to other language, though [@], semi-colon, do are new\n",
    "  action=${action//-/ }  # convert dash to space\n",
    "  action=${action//,/: } # convert comma to colon\n",
    "  action=${action//_text_/ \\\"sample text\\\" } # convert _text_ to sample text, note escape character \\ to avoid \"\" having meaning\n",
    "  echo \"    - ${action//-/ }\" >> $file  # echo is redirected to file with >>\n",
    "done\n",
    "\n",
    "echo \"\"\n",
    "echo \"File listing and status\"\n",
    "ls -l $file # list file\n",
    "wc $file   # show words\n",
    "mdless $file  # this requires installation, but renders markown from terminal\n",
    "\n",
    "rm $file  # clean up termporary file"
   ]
  },
  {
   "attachments": {},
   "cell_type": "markdown",
   "metadata": {},
   "source": [
    "## Hack Preparation.\n",
    "> Review Tool Setup Procedures and think about some thing you could verify through a Shell notebook.\n",
    "- Come up with your own student view of this procedure to show your tools are installed.  It is best that you keep the few things you understand, add things later as you start to understand them.\n",
    "- Name and create blog notes on some Linux commands you will use frequently.\n",
    "- Is there anything we use to verify tools we installed? Review versions?\n",
    "- How would you update a repository?  Use the git command line? \n"
   ]
  }
 ],
 "metadata": {
  "kernelspec": {
   "display_name": "Python 3.10.6 64-bit",
   "language": "python",
   "name": "python3"
  },
  "language_info": {
   "codemirror_mode": {
    "name": "ipython",
    "version": 3
   },
   "file_extension": ".py",
   "mimetype": "text/x-python",
   "name": "python",
   "nbconvert_exporter": "python",
   "pygments_lexer": "ipython3",
   "version": "3.11.5"
  },
  "vscode": {
   "interpreter": {
    "hash": "aee8b7b246df8f9039afb4144a1f6fd8d2ca17a180786b69acc140d282b71a49"
   }
  }
 },
 "nbformat": 4,
 "nbformat_minor": 2
}
